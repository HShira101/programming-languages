{
 "cells": [
  {
   "cell_type": "code",
   "execution_count": 1,
   "metadata": {},
   "outputs": [],
   "source": [
    "import pizza"
   ]
  },
  {
   "cell_type": "code",
   "execution_count": 2,
   "metadata": {},
   "outputs": [
    {
     "name": "stdout",
     "output_type": "stream",
     "text": [
      "<class 'tuple'>\n",
      "Cocinando pizza de 16 pulgadas con los siguientes ingredientes:\n",
      "- Salame\n",
      "- Pepperoni\n"
     ]
    }
   ],
   "source": [
    "pizza.pizza_filling(16, \"salame\", \"pepperoni\")"
   ]
  },
  {
   "cell_type": "code",
   "execution_count": 3,
   "metadata": {},
   "outputs": [
    {
     "name": "stdout",
     "output_type": "stream",
     "text": [
      "<class 'tuple'>\n",
      "Cocinando pizza de 16 pulgadas con los siguientes ingredientes:\n",
      "- Salame\n",
      "- Pepperoni\n"
     ]
    }
   ],
   "source": [
    "import pizza as p\n",
    "p.pizza_filling(16, \"salame\", \"pepperoni\")"
   ]
  },
  {
   "cell_type": "code",
   "execution_count": 4,
   "metadata": {},
   "outputs": [
    {
     "name": "stdout",
     "output_type": "stream",
     "text": [
      "<class 'tuple'>\n",
      "Cocinando pizza de 16 pulgadas con los siguientes ingredientes:\n",
      "- Salame\n",
      "- Pepperoni\n"
     ]
    }
   ],
   "source": [
    "from pizza import pizza_filling as fill\n",
    "fill(16, \"salame\", \"pepperoni\")"
   ]
  },
  {
   "cell_type": "code",
   "execution_count": 5,
   "metadata": {},
   "outputs": [
    {
     "name": "stdout",
     "output_type": "stream",
     "text": [
      "<class 'tuple'>\n",
      "Cocinando pizza de 16 pulgadas con los siguientes ingredientes:\n",
      "- Salame\n",
      "- Pepperoni\n"
     ]
    }
   ],
   "source": [
    "from pizza import *\n",
    "pizza_filling(16, \"salame\", \"pepperoni\")"
   ]
  },
  {
   "cell_type": "code",
   "execution_count": null,
   "metadata": {},
   "outputs": [],
   "source": []
  }
 ],
 "metadata": {
  "kernelspec": {
   "display_name": "Python 3",
   "language": "python",
   "name": "python3"
  },
  "language_info": {
   "codemirror_mode": {
    "name": "ipython",
    "version": 3
   },
   "file_extension": ".py",
   "mimetype": "text/x-python",
   "name": "python",
   "nbconvert_exporter": "python",
   "pygments_lexer": "ipython3",
   "version": "3.6.7"
  }
 },
 "nbformat": 4,
 "nbformat_minor": 2
}
