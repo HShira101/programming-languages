{
 "cells": [
  {
   "cell_type": "markdown",
   "metadata": {},
   "source": [
    "## Ejercicio 1"
   ]
  },
  {
   "cell_type": "code",
   "execution_count": 2,
   "metadata": {},
   "outputs": [
    {
     "name": "stdout",
     "output_type": "stream",
     "text": [
      "Ingrese el tamaño de la lista: 2\n",
      "Ingrese el usuario para la posición 0: Felipe\n",
      "Ingrese el usuario para la posición 1: Juan\n",
      "Hello Felipe\n",
      "Hello Juan\n"
     ]
    }
   ],
   "source": [
    "users = []\n",
    "\n",
    "while True:\n",
    "    size = input(\"Ingrese el tamaño de la lista: \")\n",
    "    if not size.isdigit():\n",
    "        print(\"El valor ingresado no es numérico, o es decimal\")\n",
    "        continue\n",
    "    if int(size) < 1:\n",
    "        print(\"El valor ingresado es menor a 1\")\n",
    "        continue\n",
    "    break\n",
    "size = int(size)\n",
    "\n",
    "counter = 0\n",
    "while counter < size:\n",
    "    new_user = input(\"Ingrese el usuario para la posición \" + str(counter) + \": \").lower()\n",
    "    if new_user in users:\n",
    "        print(\"El usuario ya se encuentra en la lista\")\n",
    "        continue\n",
    "    users.append(new_user)\n",
    "    counter += 1\n",
    "\n",
    "for person in users:\n",
    "    print(\"Hello \" + person.capitalize())"
   ]
  },
  {
   "cell_type": "markdown",
   "metadata": {},
   "source": [
    "## Ejercicio 2"
   ]
  },
  {
   "cell_type": "code",
   "execution_count": 5,
   "metadata": {},
   "outputs": [
    {
     "name": "stdout",
     "output_type": "stream",
     "text": [
      "Ingrese el tamaño de la lista: 2\n",
      "Ingrese el invitado para la posición 0: Felipe\n",
      "Ingrese el invitado para la posición 1: JuaN\n",
      "Elija alguna de las siguientes opciones para editar la lista de invitados\n",
      "1.- Agregar invitados\n",
      "2.- Editar invitado\n",
      "3.- Eliminar invitados\n",
      "4.- Salir\n",
      "Su opción: 1\n",
      "Ingrese el nuevo invitado: JoSe\n",
      "El nuevo invitado ha sido ingresado\n",
      "Elija alguna de las siguientes opciones para editar la lista de invitados\n",
      "1.- Agregar invitados\n",
      "2.- Editar invitado\n",
      "3.- Eliminar invitados\n",
      "4.- Salir\n",
      "Su opción: 2\n",
      "Ingrese el nombre del invitado a editar: JuAN\n",
      "Ingrese el nombre del nuevo invitado: Tomas\n",
      "El nuevo invitado ha sido cambiado\n",
      "Elija alguna de las siguientes opciones para editar la lista de invitados\n",
      "1.- Agregar invitados\n",
      "2.- Editar invitado\n",
      "3.- Eliminar invitados\n",
      "4.- Salir\n",
      "Su opción: 3\n",
      "Ingrese el nombre del invitado a eliminar: TOMA\n",
      "El invitado no se encuentra en la lista\n",
      "Ingrese el nombre del invitado a eliminar: TOMAS\n",
      "El invitado ha sido eliminado de la lista\n",
      "Elija alguna de las siguientes opciones para editar la lista de invitados\n",
      "1.- Agregar invitados\n",
      "2.- Editar invitado\n",
      "3.- Eliminar invitados\n",
      "4.- Salir\n",
      "Su opción: 4\n",
      "La lista de invitados ha sido totalmente editada\n",
      "La lista de invitados cuenta con:\n",
      "- Felipe\n",
      "- Jose\n",
      "La lista cuenta con 2 invitados\n"
     ]
    }
   ],
   "source": [
    "guests = []\n",
    "\n",
    "while True:\n",
    "    size = input(\"Ingrese el tamaño de la lista: \")\n",
    "    if not size.isdigit():\n",
    "        print(\"El valor ingresado no es numérico, es decimal o negativo\")\n",
    "        continue\n",
    "    break\n",
    "size = int(size)\n",
    "\n",
    "counter = 0\n",
    "while counter < size:\n",
    "    new_guest = input(\"Ingrese el invitado para la posición \" + str(counter) + \": \").lower()\n",
    "    if new_guest in guests:\n",
    "        print(\"El invitado ya se encuentra en la lista\")\n",
    "        continue\n",
    "    if not new_guest.isalpha():\n",
    "        print(\"El nombre del invitado debe ser alfabético\")\n",
    "        continue\n",
    "    guests.append(new_guest)\n",
    "    counter += 1\n",
    "\n",
    "choice = \"0\"\n",
    "while choice != \"4\":\n",
    "    print(\"Elija alguna de las siguientes opciones para editar la lista de invitados\")\n",
    "    print(\"1.- Agregar invitados\")\n",
    "    print(\"2.- Editar invitado\")\n",
    "    print(\"3.- Eliminar invitados\")\n",
    "    print(\"4.- Salir\")\n",
    "    choice = input(\"Su opción: \")\n",
    "    \n",
    "    if choice == \"1\":\n",
    "        while True:\n",
    "            new_guest = input(\"Ingrese el nuevo invitado: \").lower()\n",
    "            if new_guest in guests:\n",
    "                print(\"El invitado ya se encuentra en la lista\")\n",
    "                continue\n",
    "            if not new_guest.isalpha():\n",
    "                print(\"El nombre del invitado debe ser alfabético\")\n",
    "                continue\n",
    "            guests.append(new_guest)\n",
    "            print(\"El nuevo invitado ha sido ingresado\")\n",
    "            break\n",
    "    elif choice == \"2\":\n",
    "        while True:\n",
    "            while True:\n",
    "                old_guest = input(\"Ingrese el nombre del invitado a editar: \").lower()\n",
    "                if not old_guest in guests:\n",
    "                    print(\"El invitado no se encuentra en la lista\")\n",
    "                    continue\n",
    "                break\n",
    "            while True:\n",
    "                new_guest = input(\"Ingrese el nombre del nuevo invitado: \").lower()\n",
    "                if new_guest in guests:\n",
    "                    print(\"El nuevo invitado ya se encuentra en la lista: \")\n",
    "                    continue\n",
    "                if not new_guest.isalpha():\n",
    "                    print(\"El nombre del invitado debe ser alfabético\")\n",
    "                    continue\n",
    "                break\n",
    "            index = guests.index(old_guest)\n",
    "            guests[index] = new_guest\n",
    "            print(\"El nuevo invitado ha sido cambiado\")\n",
    "            break\n",
    "    elif choice == \"3\":\n",
    "        while True:\n",
    "            while True:\n",
    "                remove_guest = input(\"Ingrese el nombre del invitado a eliminar: \").lower()\n",
    "                if not remove_guest in guests:\n",
    "                    print(\"El invitado no se encuentra en la lista\")\n",
    "                    continue\n",
    "                break\n",
    "            guests.remove(remove_guest)\n",
    "            print(\"El invitado ha sido eliminado de la lista\")\n",
    "            break\n",
    "    elif choice == \"4\":\n",
    "        print(\"La lista de invitados ha sido totalmente editada\")\n",
    "        print(\"La lista de invitados cuenta con:\")\n",
    "        for person in guests:\n",
    "            print(\"- \" + person.capitalize())\n",
    "        print(\"La lista cuenta con \" + str(len(guests)) + \" invitados\")\n",
    "    else:\n",
    "        print(\"El valor ingresado no corresponde a alguna de las opciones\")"
   ]
  },
  {
   "cell_type": "markdown",
   "metadata": {},
   "source": [
    "## Ejercicio 3"
   ]
  },
  {
   "cell_type": "code",
   "execution_count": 7,
   "metadata": {},
   "outputs": [
    {
     "name": "stdout",
     "output_type": "stream",
     "text": [
      "Ingrese el tamaño de la lista: 3\n",
      "El primer valor de la lista es: 8\n",
      "El último valor de la lista es: 216\n",
      "Los valores intermedios son : [64]\n"
     ]
    }
   ],
   "source": [
    "while True:\n",
    "    size = input(\"Ingrese el tamaño de la lista: \")\n",
    "    if not size.isdigit():\n",
    "        print(\"El valor ingresado no es numérico, es decimal o negativo\")\n",
    "        continue\n",
    "    break\n",
    "size = int(size)\n",
    "\n",
    "cubes = [value ** 3 for value in range(2, (size * 2) + 1, 2)]\n",
    "\n",
    "print(\"El primer valor de la lista es: \" + str(cubes[0]))\n",
    "if len(cubes) > 1:\n",
    "    print(\"El último valor de la lista es: \" + str(cubes[-1]))\n",
    "if len(cubes) > 2:\n",
    "    print(\"Los valores intermedios son : \" + str(cubes[1:-1]))"
   ]
  },
  {
   "cell_type": "markdown",
   "metadata": {},
   "source": [
    "## Ejercicio 4"
   ]
  },
  {
   "cell_type": "code",
   "execution_count": 8,
   "metadata": {},
   "outputs": [
    {
     "name": "stdout",
     "output_type": "stream",
     "text": [
      "Ingrese el tamaño de la lista: -3\n",
      "El valor ingresado no es numérico, es decimal o negativo\n",
      "Ingrese el tamaño de la lista: 3\n",
      "Ingrese el usuario para la posición 0: sagacius\n",
      "Ingrese el usuario para la posición 1: starcom\n",
      "Ingrese el usuario para la posición 2: admin\n",
      "El usuario no se puede llamar admin bajo ningún motivo\n",
      "Ingrese el usuario para la posición 2: starcom\n",
      "El usuario ya se encuentra en la lista\n",
      "Ingrese el usuario para la posición 2: Starcom\n",
      "La lista del usuario incluye: \n",
      "- sagacius\n",
      "- starcom\n",
      "- Starcom\n"
     ]
    }
   ],
   "source": [
    "users = []\n",
    "\n",
    "while True:\n",
    "    size = input(\"Ingrese el tamaño de la lista: \")\n",
    "    if not size.isdigit():\n",
    "        print(\"El valor ingresado no es numérico, es decimal o negativo\")\n",
    "        continue\n",
    "    break\n",
    "size = int(size)\n",
    "\n",
    "counter = 0\n",
    "while counter < size:\n",
    "    new_user = input(\"Ingrese el usuario para la posición \" + str(counter) + \": \")\n",
    "    if new_user in users:\n",
    "        print(\"El usuario ya se encuentra en la lista\")\n",
    "        continue\n",
    "    if new_user.lower() == \"admin\":\n",
    "        print(\"El usuario no se puede llamar admin bajo ningún motivo\")\n",
    "        continue\n",
    "    users.append(new_user)\n",
    "    counter += 1\n",
    "\n",
    "print(\"La lista del usuario incluye: \")\n",
    "for person in users:\n",
    "    print(\"- \" + person)"
   ]
  },
  {
   "cell_type": "markdown",
   "metadata": {},
   "source": [
    "## Ejercicio 5"
   ]
  },
  {
   "cell_type": "code",
   "execution_count": 11,
   "metadata": {},
   "outputs": [
    {
     "name": "stdout",
     "output_type": "stream",
     "text": [
      "Ingrese su nombre: Felipe\n",
      "Ingrese su apellido: Maldonado\n",
      "Si desea agregar más datos, responda si o no al siguiente cuadro\n",
      "Respuesta: si\n",
      "Ingrese el nombre de la nueva característica: name\n",
      "La característica ya existe en el diccionario\n",
      "Ingrese el nombre de la nueva característica: Name\n",
      "La característica ya existe en el diccionario\n",
      "Ingrese el nombre de la nueva característica: School\n",
      "Ingrese el valor asociado a la nueva característica: ULagos\n",
      "El nuevo valor ha sido ingresado\n",
      "Si desea agregar más datos, responda si o no al siguiente cuadro\n",
      "Respuesta: no\n",
      "[name]: Felipe\n",
      "[last_name]: Maldonado\n",
      "[school]: ULagos\n"
     ]
    }
   ],
   "source": [
    "personal_info = dict()\n",
    "while True:\n",
    "    name = input(\"Ingrese su nombre: \")\n",
    "    if not name.isalpha():\n",
    "        print(\"No creo que su nombre incluya números\")\n",
    "        continue\n",
    "    personal_info[\"name\"] = name.capitalize()\n",
    "    break\n",
    "while True:\n",
    "    name = input(\"Ingrese su apellido: \")\n",
    "    if not name.isalpha():\n",
    "        print(\"No creo que su apellido incluya números\")\n",
    "        continue\n",
    "    personal_info[\"last_name\"] = name.capitalize()\n",
    "    break\n",
    "while True:\n",
    "    print(\"Si desea agregar más datos, responda si o no al siguiente cuadro\")\n",
    "    choice = input(\"Respuesta: \").lower()\n",
    "    if choice == \"si\":\n",
    "        while True:\n",
    "            key = input(\"Ingrese el nombre de la nueva característica: \").lower()\n",
    "            if not key.isalnum():\n",
    "                print(\"El nombre de la característica debe ser solo alfanumérico\")\n",
    "                continue\n",
    "            if key in personal_info.keys():\n",
    "                print(\"La característica ya existe en el diccionario\")\n",
    "                continue\n",
    "            break\n",
    "        value = input(\"Ingrese el valor asociado a la nueva característica: \")\n",
    "        personal_info[key] = value\n",
    "        print(\"El nuevo valor ha sido ingresado\")\n",
    "    elif choice == \"no\":\n",
    "        for key, value in personal_info.items():\n",
    "            print(\"[\" + key + \"]: \" + value)\n",
    "        break\n",
    "    else:\n",
    "        print(\"Ingresaste mal tu opción\")"
   ]
  },
  {
   "cell_type": "markdown",
   "metadata": {},
   "source": [
    "## Ejercicio 6"
   ]
  },
  {
   "cell_type": "code",
   "execution_count": 17,
   "metadata": {},
   "outputs": [
    {
     "name": "stdout",
     "output_type": "stream",
     "text": [
      "A continuación se preguntará continuamente su lugar favorito\n",
      "Al final, se realizará un recuento\n",
      "Si desea finalizar, escriba SALIR\n",
      "[1] Ingrese su lugar favorito: Chile\n",
      "[2] Ingrese su lugar favorito: Perú\n",
      "[3] Ingrese su lugar favorito: Perú\n",
      "[4] Ingrese su lugar favorito: Japón\n",
      "[5] Ingrese su lugar favorito: salir\n",
      "Chile ha sido ingresado 1 vez\n",
      "Perú ha sido ingresado 2 veces\n",
      "Japón ha sido ingresado 1 vez\n"
     ]
    }
   ],
   "source": [
    "counter = 1\n",
    "favorite_places = []\n",
    "counted_places = []\n",
    "\n",
    "print(\"A continuación se preguntará continuamente su lugar favorito\")\n",
    "print(\"Al final, se realizará un recuento\")\n",
    "print(\"Si desea finalizar, escriba SALIR\")\n",
    "while True:\n",
    "    place = input(\"[\" + str(counter) + \"] Ingrese su lugar favorito: \").capitalize()\n",
    "    if place == \"Salir\":\n",
    "        break\n",
    "    if not place.isalpha():\n",
    "        print(\"El lugar incluye números o caracteres especiales\")\n",
    "        continue\n",
    "    favorite_places.append(place)\n",
    "    counter += 1\n",
    "\n",
    "for place in favorite_places:\n",
    "    if not place in counted_places:\n",
    "        counted_places.append(place)\n",
    "        if favorite_places.count(place) > 1:\n",
    "            print(place + \" ha sido ingresado \" + str(favorite_places.count(place)) + \" veces\")\n",
    "        else:\n",
    "            print(place + \" ha sido ingresado \" + str(favorite_places.count(place)) + \" vez\")"
   ]
  },
  {
   "cell_type": "markdown",
   "metadata": {},
   "source": [
    "## Ejercicio 7\n",
    "### Ejercicio 3"
   ]
  },
  {
   "cell_type": "code",
   "execution_count": 18,
   "metadata": {},
   "outputs": [
    {
     "name": "stdout",
     "output_type": "stream",
     "text": [
      "Ingrese el tamaño de la lista: 4\n",
      "El primer valor de la lista es: 8\n",
      "El último valor de la lista es: 512\n",
      "Los valores intermedios son : [64, 216]\n"
     ]
    }
   ],
   "source": [
    "def raise_lists(old_list, power=3):\n",
    "    \"\"\"A function that power any list\n",
    "    \n",
    "    param old_list: The base list\n",
    "    param power: The power for the operation\n",
    "    \n",
    "    return: A list with the operation completed\n",
    "    \"\"\"\n",
    "    new_list = []\n",
    "    for value in old_list:\n",
    "        new_list.append(value ** power)\n",
    "    return new_list\n",
    "\n",
    "while True:\n",
    "    size = input(\"Ingrese el tamaño de la lista: \")\n",
    "    if not size.isdigit():\n",
    "        print(\"El valor ingresado no es numérico, es decimal o negativo\")\n",
    "        continue\n",
    "    break\n",
    "size = int(size)\n",
    "\n",
    "cubes = [value for value in range(2, (size * 2) + 1, 2)]\n",
    "cubes = raise_lists(cubes)\n",
    "\n",
    "print(\"El primer valor de la lista es: \" + str(cubes[0]))\n",
    "if len(cubes) > 1:\n",
    "    print(\"El último valor de la lista es: \" + str(cubes[-1]))\n",
    "if len(cubes) > 2:\n",
    "    print(\"Los valores intermedios son : \" + str(cubes[1:-1]))"
   ]
  },
  {
   "cell_type": "markdown",
   "metadata": {},
   "source": [
    "## Ejercicio 7\n",
    "### Ejercicio 6"
   ]
  },
  {
   "cell_type": "code",
   "execution_count": 21,
   "metadata": {},
   "outputs": [
    {
     "name": "stdout",
     "output_type": "stream",
     "text": [
      "A continuación se preguntará continuamente su lugar favorito\n",
      "Al final, se realizará un recuento\n",
      "Si desea finalizar, escriba SALIR\n",
      "[1] Ingrese su lugar favorito: 3\n",
      "El lugar incluye números o caracteres especiales\n",
      "[1] Ingrese su lugar favorito: Chile\n",
      "[2] Ingrese su lugar favorito: chile\n",
      "[3] Ingrese su lugar favorito: japon\n",
      "[4] Ingrese su lugar favorito: salir\n",
      "[['Chile', 2], ['Japon', 1]]\n",
      "Chile ha sido ingresado 2 veces\n",
      "Japon ha sido ingresado 1 vez\n"
     ]
    }
   ],
   "source": [
    "def count_items(items):\n",
    "    checked_items = []\n",
    "    final_count = []\n",
    "    for value in items:\n",
    "        if not value in checked_items:\n",
    "            checked_items.append(value)\n",
    "            final_count.append([value, items.count(value)])\n",
    "        else:\n",
    "            continue\n",
    "    return final_count\n",
    "\n",
    "counter = 1\n",
    "favorite_places = []\n",
    "\n",
    "print(\"A continuación se preguntará continuamente su lugar favorito\")\n",
    "print(\"Al final, se realizará un recuento\")\n",
    "print(\"Si desea finalizar, escriba SALIR\")\n",
    "while True:\n",
    "    place = input(\"[\" + str(counter) + \"] Ingrese su lugar favorito: \").capitalize()\n",
    "    if place == \"Salir\":\n",
    "        break\n",
    "    if not place.isalpha():\n",
    "        print(\"El lugar incluye números o caracteres especiales\")\n",
    "        continue\n",
    "    favorite_places.append(place)\n",
    "    counter += 1\n",
    "\n",
    "counted_places = count_items(favorite_places)\n",
    "print(counted_places)\n",
    "for place in counted_places:\n",
    "    if place[1] > 1:\n",
    "        print(place[0] + \" ha sido ingresado \" + str(place[1]) + \" veces\")\n",
    "    else:\n",
    "        print(place[0] + \" ha sido ingresado \" + str(place[1]) + \" vez\")"
   ]
  },
  {
   "cell_type": "code",
   "execution_count": null,
   "metadata": {},
   "outputs": [],
   "source": []
  }
 ],
 "metadata": {
  "kernelspec": {
   "display_name": "Python 3",
   "language": "python",
   "name": "python3"
  },
  "language_info": {
   "codemirror_mode": {
    "name": "ipython",
    "version": 3
   },
   "file_extension": ".py",
   "mimetype": "text/x-python",
   "name": "python",
   "nbconvert_exporter": "python",
   "pygments_lexer": "ipython3",
   "version": "3.6.7"
  }
 },
 "nbformat": 4,
 "nbformat_minor": 2
}
