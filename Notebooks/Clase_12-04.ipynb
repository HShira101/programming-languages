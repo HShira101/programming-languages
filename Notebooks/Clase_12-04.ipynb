{
 "cells": [
  {
   "cell_type": "markdown",
   "metadata": {
    "slideshow": {
     "slide_type": "slide"
    }
   },
   "source": [
    "# Lenguajes de programación\n",
    "## Introducción a Python\n",
    "### Clase 12/04"
   ]
  },
  {
   "cell_type": "markdown",
   "metadata": {
    "slideshow": {
     "slide_type": "slide"
    }
   },
   "source": [
    "## Características de Python\n",
    "- Multiparadigma\n",
    "- Interpretado\n",
    "- Dinámico y fuerte\n",
    "- Multiplataforma\n",
    "- Código abierto"
   ]
  },
  {
   "cell_type": "markdown",
   "metadata": {
    "slideshow": {
     "slide_type": "slide"
    }
   },
   "source": [
    "## Requisitos del ramo\n",
    "- Versión de Python: Sobre 3.x (de preferencia sobre 3.5.x)\n",
    "- IDE's: El de gusto personal, pero se recomienda PyCharm para proyectos, y Sublime Text para tareas diarias.\n",
    "- Librerias o paquetes adicionales: Solo Jupyter inicialmente"
   ]
  },
  {
   "cell_type": "markdown",
   "metadata": {
    "slideshow": {
     "slide_type": "slide"
    }
   },
   "source": [
    "## Primer \"Hola mundo\""
   ]
  },
  {
   "cell_type": "code",
   "execution_count": 1,
   "metadata": {
    "slideshow": {
     "slide_type": "fragment"
    }
   },
   "outputs": [
    {
     "name": "stdout",
     "output_type": "stream",
     "text": [
      "Hola Mundo\n"
     ]
    }
   ],
   "source": [
    "print(\"Hola Mundo\")"
   ]
  },
  {
   "cell_type": "code",
   "execution_count": 2,
   "metadata": {
    "slideshow": {
     "slide_type": "fragment"
    }
   },
   "outputs": [
    {
     "name": "stdout",
     "output_type": "stream",
     "text": [
      "Hola Mundo\n"
     ]
    }
   ],
   "source": [
    "mensaje = \"Hola Mundo\"\n",
    "print(mensaje)"
   ]
  },
  {
   "cell_type": "code",
   "execution_count": 4,
   "metadata": {
    "slideshow": {
     "slide_type": "fragment"
    }
   },
   "outputs": [
    {
     "ename": "TypeError",
     "evalue": "Can't convert 'int' object to str implicitly",
     "output_type": "error",
     "traceback": [
      "\u001b[0;31m---------------------------------------------------------------------------\u001b[0m",
      "\u001b[0;31mTypeError\u001b[0m                                 Traceback (most recent call last)",
      "\u001b[0;32m<ipython-input-4-f1b2cc135cac>\u001b[0m in \u001b[0;36m<module>\u001b[0;34m()\u001b[0m\n\u001b[1;32m      1\u001b[0m \u001b[0mmensaje\u001b[0m \u001b[0;34m=\u001b[0m \u001b[0;34m\"Hola mundo: versión número \"\u001b[0m\u001b[0;34m\u001b[0m\u001b[0m\n\u001b[0;32m----> 2\u001b[0;31m \u001b[0mprint\u001b[0m\u001b[0;34m(\u001b[0m\u001b[0mmensaje\u001b[0m \u001b[0;34m+\u001b[0m \u001b[0;36m3\u001b[0m\u001b[0;34m)\u001b[0m\u001b[0;34m\u001b[0m\u001b[0m\n\u001b[0m",
      "\u001b[0;31mTypeError\u001b[0m: Can't convert 'int' object to str implicitly"
     ]
    }
   ],
   "source": [
    "mensaje = \"Hola mundo: versión número \"\n",
    "print(mensaje + 3)"
   ]
  },
  {
   "cell_type": "markdown",
   "metadata": {
    "slideshow": {
     "slide_type": "slide"
    }
   },
   "source": [
    "## Cadenas de texto o _\"Strings\"_"
   ]
  },
  {
   "cell_type": "code",
   "execution_count": 5,
   "metadata": {
    "slideshow": {
     "slide_type": "fragment"
    }
   },
   "outputs": [
    {
     "name": "stdout",
     "output_type": "stream",
     "text": [
      "Esto es un mensaje\n",
      "Estas comillas igual sirven para el mensaje\n"
     ]
    }
   ],
   "source": [
    "mensaje = \"Esto es un mensaje\"\n",
    "print(mensaje)\n",
    "mensaje = 'Estas comillas igual sirven para el mensaje'\n",
    "print(mensaje)"
   ]
  },
  {
   "cell_type": "code",
   "execution_count": 22,
   "metadata": {
    "slideshow": {
     "slide_type": "fragment"
    }
   },
   "outputs": [
    {
     "name": "stdout",
     "output_type": "stream",
     "text": [
      "Además existen métodos para capitalizar\n",
      "['O', 'para', 'separar']\n"
     ]
    }
   ],
   "source": [
    "mensaje = \"además existen métodos para capitalizar\"\n",
    "print(mensaje.capitalize())\n",
    "mensaje = \"O para separar\"\n",
    "print(mensaje.split(\" \"))"
   ]
  },
  {
   "cell_type": "markdown",
   "metadata": {
    "slideshow": {
     "slide_type": "fragment"
    }
   },
   "source": [
    "#### En este [link](https://www.w3schools.com/python/python_ref_string.asp) se encuentran una lista de metodos para strings."
   ]
  },
  {
   "cell_type": "markdown",
   "metadata": {
    "slideshow": {
     "slide_type": "slide"
    }
   },
   "source": [
    "## Números"
   ]
  },
  {
   "cell_type": "markdown",
   "metadata": {
    "slideshow": {
     "slide_type": "subslide"
    }
   },
   "source": [
    "### Enteros o _\"int\"_"
   ]
  },
  {
   "cell_type": "code",
   "execution_count": 13,
   "metadata": {
    "slideshow": {
     "slide_type": "fragment"
    }
   },
   "outputs": [
    {
     "name": "stdout",
     "output_type": "stream",
     "text": [
      "4 3 9 2.5 1 16\n"
     ]
    }
   ],
   "source": [
    "suma = 2 + 2\n",
    "resta = 6 - 3\n",
    "multiplicacion = 3 * 3\n",
    "division = 5 / 2\n",
    "resto = 5 % 2\n",
    "potencia = 2 ** 4\n",
    "print(suma, resta, multiplicacion, division, resto, potencia)"
   ]
  },
  {
   "cell_type": "markdown",
   "metadata": {
    "slideshow": {
     "slide_type": "subslide"
    }
   },
   "source": [
    "### Flotantes o _\"float\"_"
   ]
  },
  {
   "cell_type": "code",
   "execution_count": 18,
   "metadata": {
    "slideshow": {
     "slide_type": "fragment"
    }
   },
   "outputs": [
    {
     "name": "stdout",
     "output_type": "stream",
     "text": [
      "0.4 0.3 0.09 2.5 0.2 0.0016000000000000003 0.0016\n"
     ]
    }
   ],
   "source": [
    "suma = 0.2 + 0.2\n",
    "resta = 0.6 - 0.3\n",
    "multiplicacion = 0.3 * 0.3\n",
    "division = 0.5 / 0.2\n",
    "resto = 0.5 % 0.3\n",
    "potencia = 0.2 ** 4\n",
    "print(suma, \n",
    "      resta, \n",
    "      multiplicacion, \n",
    "      division, \n",
    "      resto, \n",
    "      potencia, \n",
    "      round(potencia, 4))"
   ]
  },
  {
   "cell_type": "markdown",
   "metadata": {
    "slideshow": {
     "slide_type": "slide"
    }
   },
   "source": [
    "## Conversión o _\"casting\"_ en Python"
   ]
  },
  {
   "cell_type": "code",
   "execution_count": 24,
   "metadata": {
    "slideshow": {
     "slide_type": "fragment"
    }
   },
   "outputs": [
    {
     "name": "stdout",
     "output_type": "stream",
     "text": [
      "De esta forma se puede hacer las siguientes operaciones:\n",
      "e imprimirlas en patalla sin problemas como:  10 6.5\n"
     ]
    }
   ],
   "source": [
    "entero = 5\n",
    "flotante = 1.5\n",
    "cadena = \"5\"\n",
    "print(\"De esta forma se puede hacer las siguientes operaciones:\")\n",
    "nuevo_entero = 5 + int(cadena)\n",
    "nuevo_flotante = flotante + float(cadena)\n",
    "print(\"e imprimirlas en patalla sin problemas como: \", str(nuevo_entero), str(nuevo_flotante))"
   ]
  },
  {
   "cell_type": "markdown",
   "metadata": {
    "slideshow": {
     "slide_type": "slide"
    }
   },
   "source": [
    "## Comentarios"
   ]
  },
  {
   "cell_type": "code",
   "execution_count": null,
   "metadata": {
    "slideshow": {
     "slide_type": "fragment"
    }
   },
   "outputs": [],
   "source": [
    "# Podemos comentar de esta manera para dar consejos o explicando pequeñas secciones del código\n",
    "\n",
    "\"\"\"\n",
    "Y existe esta forma de comentar la cual se usa\n",
    "especialemente al comienzo de objetos y metodos para dar detalles de la funcionalidad\n",
    "del metodo y sus parámetros\n",
    "\"\"\""
   ]
  },
  {
   "cell_type": "markdown",
   "metadata": {
    "slideshow": {
     "slide_type": "slide"
    }
   },
   "source": [
    "# The Zen of Python"
   ]
  },
  {
   "cell_type": "code",
   "execution_count": 25,
   "metadata": {
    "slideshow": {
     "slide_type": "subslide"
    }
   },
   "outputs": [
    {
     "name": "stdout",
     "output_type": "stream",
     "text": [
      "The Zen of Python, by Tim Peters\n",
      "\n",
      "Beautiful is better than ugly.\n",
      "Explicit is better than implicit.\n",
      "Simple is better than complex.\n",
      "Complex is better than complicated.\n",
      "Flat is better than nested.\n",
      "Sparse is better than dense.\n",
      "Readability counts.\n",
      "Special cases aren't special enough to break the rules.\n",
      "Although practicality beats purity.\n",
      "Errors should never pass silently.\n",
      "Unless explicitly silenced.\n",
      "In the face of ambiguity, refuse the temptation to guess.\n",
      "There should be one-- and preferably only one --obvious way to do it.\n",
      "Although that way may not be obvious at first unless you're Dutch.\n",
      "Now is better than never.\n",
      "Although never is often better than *right* now.\n",
      "If the implementation is hard to explain, it's a bad idea.\n",
      "If the implementation is easy to explain, it may be a good idea.\n",
      "Namespaces are one honking great idea -- let's do more of those!\n"
     ]
    }
   ],
   "source": [
    "import this"
   ]
  },
  {
   "cell_type": "markdown",
   "metadata": {
    "slideshow": {
     "slide_type": "slide"
    }
   },
   "source": [
    "## Listas"
   ]
  },
  {
   "cell_type": "code",
   "execution_count": 66,
   "metadata": {
    "slideshow": {
     "slide_type": "fragment"
    }
   },
   "outputs": [
    {
     "name": "stdout",
     "output_type": "stream",
     "text": [
      "Las listas son colecciones de valores con orden específico\n",
      "['The Witcher', 'Mass Effect', 'Dragon Age', 'Final Fantasy']\n",
      "The Witcher\n"
     ]
    }
   ],
   "source": [
    "print(\"Las listas son colecciones de valores con orden específico\")\n",
    "videojuegos = [\"The Witcher\", \"Mass Effect\", \"Dragon Age\", \"Final Fantasy\"]\n",
    "print(videojuegos)\n",
    "print(videojuegos[0])"
   ]
  },
  {
   "cell_type": "code",
   "execution_count": 67,
   "metadata": {
    "slideshow": {
     "slide_type": "fragment"
    }
   },
   "outputs": [
    {
     "name": "stdout",
     "output_type": "stream",
     "text": [
      "<class 'list'>\n",
      "<class 'str'>\n",
      "Debido a la conservación de los tipos, todos los métodos se puede utilizar libremente cuando corresponda\n",
      "The witcher\n"
     ]
    }
   ],
   "source": [
    "print(type(videojuegos))\n",
    "print(type(videojuegos[0]))\n",
    "print(\"Debido a la conservación de los tipos, todos los métodos se puede utilizar libremente cuando corresponda\")\n",
    "print(videojuegos[0].capitalize())"
   ]
  },
  {
   "cell_type": "markdown",
   "metadata": {
    "slideshow": {
     "slide_type": "subslide"
    }
   },
   "source": [
    "## Editando la lista"
   ]
  },
  {
   "cell_type": "code",
   "execution_count": 68,
   "metadata": {
    "slideshow": {
     "slide_type": "fragment"
    }
   },
   "outputs": [
    {
     "name": "stdout",
     "output_type": "stream",
     "text": [
      "['The Witcher', 'Mass Effect', 'Dragon Age', 'Final Fantasy']\n",
      "['The Witcher', 'Mass Effect', 'The Legend of Zelda', 'Final Fantasy']\n"
     ]
    }
   ],
   "source": [
    "print(videojuegos)\n",
    "videojuegos[2] = \"The Legend of Zelda\"\n",
    "print(videojuegos)"
   ]
  },
  {
   "cell_type": "code",
   "execution_count": 69,
   "metadata": {
    "slideshow": {
     "slide_type": "fragment"
    }
   },
   "outputs": [
    {
     "name": "stdout",
     "output_type": "stream",
     "text": [
      "['The Witcher', 'Mass Effect', 'The Legend of Zelda', 'Pokemon', 'Final Fantasy', 'GTA V']\n"
     ]
    }
   ],
   "source": [
    "videojuegos.append(\"GTA V\")\n",
    "videojuegos.insert(3, \"Pokemon\")\n",
    "print(videojuegos)"
   ]
  },
  {
   "cell_type": "code",
   "execution_count": 70,
   "metadata": {
    "slideshow": {
     "slide_type": "subslide"
    }
   },
   "outputs": [
    {
     "name": "stdout",
     "output_type": "stream",
     "text": [
      "['The Witcher', 'Mass Effect', 'The Legend of Zelda', 'Final Fantasy', 'GTA V']\n",
      "['The Witcher', 'Mass Effect', 'The Legend of Zelda', 'Final Fantasy']\n",
      "GTA V\n"
     ]
    }
   ],
   "source": [
    "del videojuegos[3]\n",
    "print(videojuegos)\n",
    "elemento_eliminado = videojuegos.pop()\n",
    "print(videojuegos)\n",
    "print(elemento_eliminado)"
   ]
  },
  {
   "cell_type": "code",
   "execution_count": 71,
   "metadata": {
    "slideshow": {
     "slide_type": "fragment"
    }
   },
   "outputs": [
    {
     "name": "stdout",
     "output_type": "stream",
     "text": [
      "['The Witcher', 'Mass Effect', 'Final Fantasy']\n"
     ]
    }
   ],
   "source": [
    "videojuegos.remove(\"The Legend of Zelda\")\n",
    "print(videojuegos)"
   ]
  },
  {
   "cell_type": "markdown",
   "metadata": {
    "slideshow": {
     "slide_type": "subslide"
    }
   },
   "source": [
    "## Organizando"
   ]
  },
  {
   "cell_type": "markdown",
   "metadata": {
    "slideshow": {
     "slide_type": "fragment"
    }
   },
   "source": [
    "### _sort()_ v/s _sorted()_"
   ]
  },
  {
   "cell_type": "code",
   "execution_count": 72,
   "metadata": {
    "slideshow": {
     "slide_type": "fragment"
    }
   },
   "outputs": [
    {
     "name": "stdout",
     "output_type": "stream",
     "text": [
      "['The Witcher', 'Mass Effect', 'Final Fantasy']\n",
      "['Final Fantasy', 'Mass Effect', 'The Witcher']\n",
      "['Final Fantasy', 'Mass Effect', 'The Witcher']\n",
      "['The Witcher', 'Mass Effect', 'Final Fantasy']\n"
     ]
    }
   ],
   "source": [
    "videojuegos_ordenado = videojuegos[:]\n",
    "videojuegos_ordenado.sort()\n",
    "print(videojuegos)\n",
    "print(videojuegos_ordenado)\n",
    "print(sorted(videojuegos))\n",
    "print(videojuegos)"
   ]
  },
  {
   "cell_type": "code",
   "execution_count": 73,
   "metadata": {
    "slideshow": {
     "slide_type": "fragment"
    }
   },
   "outputs": [
    {
     "ename": "IndexError",
     "evalue": "list index out of range",
     "output_type": "error",
     "traceback": [
      "\u001b[0;31m---------------------------------------------------------------------------\u001b[0m",
      "\u001b[0;31mIndexError\u001b[0m                                Traceback (most recent call last)",
      "\u001b[0;32m<ipython-input-73-e044822ebd0c>\u001b[0m in \u001b[0;36m<module>\u001b[0;34m()\u001b[0m\n\u001b[0;32m----> 1\u001b[0;31m \u001b[0mprint\u001b[0m\u001b[0;34m(\u001b[0m\u001b[0mvideojuegos\u001b[0m\u001b[0;34m[\u001b[0m\u001b[0;36m3\u001b[0m\u001b[0;34m]\u001b[0m\u001b[0;34m)\u001b[0m\u001b[0;34m\u001b[0m\u001b[0m\n\u001b[0m",
      "\u001b[0;31mIndexError\u001b[0m: list index out of range"
     ]
    }
   ],
   "source": [
    "print(videojuegos[3])"
   ]
  },
  {
   "cell_type": "code",
   "execution_count": 74,
   "metadata": {
    "slideshow": {
     "slide_type": "fragment"
    }
   },
   "outputs": [
    {
     "name": "stdout",
     "output_type": "stream",
     "text": [
      "Final Fantasy\n"
     ]
    }
   ],
   "source": [
    "print(videojuegos[-1])"
   ]
  },
  {
   "cell_type": "markdown",
   "metadata": {
    "slideshow": {
     "slide_type": "subslide"
    }
   },
   "source": [
    "## Bucle _for_"
   ]
  },
  {
   "cell_type": "code",
   "execution_count": 75,
   "metadata": {
    "slideshow": {
     "slide_type": "fragment"
    }
   },
   "outputs": [
    {
     "name": "stdout",
     "output_type": "stream",
     "text": [
      "The Witcher\n",
      "Me gusta jugar The Witcher\n",
      "Mass Effect\n",
      "Me gusta jugar Mass Effect\n",
      "Final Fantasy\n",
      "Me gusta jugar Final Fantasy\n"
     ]
    }
   ],
   "source": [
    "for juego in videojuegos:\n",
    "    print(juego)\n",
    "    print(\"Me gusta jugar\", juego)"
   ]
  },
  {
   "cell_type": "markdown",
   "metadata": {
    "slideshow": {
     "slide_type": "subslide"
    }
   },
   "source": [
    "## Listas numericas"
   ]
  },
  {
   "cell_type": "code",
   "execution_count": 62,
   "metadata": {
    "slideshow": {
     "slide_type": "fragment"
    }
   },
   "outputs": [
    {
     "name": "stdout",
     "output_type": "stream",
     "text": [
      "[1, 2, 3, 4]\n"
     ]
    }
   ],
   "source": [
    "numeros = list(range(1, 5))\n",
    "print(numeros)"
   ]
  },
  {
   "cell_type": "code",
   "execution_count": 63,
   "metadata": {
    "slideshow": {
     "slide_type": "fragment"
    }
   },
   "outputs": [
    {
     "name": "stdout",
     "output_type": "stream",
     "text": [
      "[1, 2, 3, 4, 1, 2, 3, 4]\n",
      "[2, 4, 6, 8]\n"
     ]
    }
   ],
   "source": [
    "dobles = numeros * 2\n",
    "print(dobles)\n",
    "dobles = []\n",
    "for numero in numeros:\n",
    "    dobles.append(numero * 2)\n",
    "print(dobles)"
   ]
  },
  {
   "cell_type": "code",
   "execution_count": 65,
   "metadata": {
    "slideshow": {
     "slide_type": "fragment"
    }
   },
   "outputs": [
    {
     "name": "stdout",
     "output_type": "stream",
     "text": [
      "[2, 4, 6, 8]\n"
     ]
    }
   ],
   "source": [
    "dobles = [numero * 2 for numero in numeros]\n",
    "print(dobles)"
   ]
  },
  {
   "cell_type": "markdown",
   "metadata": {
    "slideshow": {
     "slide_type": "subslide"
    }
   },
   "source": [
    "## Cortando listas"
   ]
  },
  {
   "cell_type": "code",
   "execution_count": 79,
   "metadata": {
    "slideshow": {
     "slide_type": "fragment"
    }
   },
   "outputs": [
    {
     "name": "stdout",
     "output_type": "stream",
     "text": [
      "[1, 2, 3, 4, 5]\n",
      "[1, 2]\n",
      "[3, 4, 5]\n",
      "[4, 5]\n"
     ]
    }
   ],
   "source": [
    "numeros = list(range(1, 6))\n",
    "print(numeros)\n",
    "menos_numeros = numeros[:2]\n",
    "print(menos_numeros)\n",
    "menos_numeros = numeros[2:]\n",
    "print(menos_numeros)\n",
    "menos_numeros = numeros[-2:]\n",
    "print(menos_numeros)"
   ]
  },
  {
   "cell_type": "markdown",
   "metadata": {
    "slideshow": {
     "slide_type": "subslide"
    }
   },
   "source": [
    "## Copiando listas"
   ]
  },
  {
   "cell_type": "code",
   "execution_count": 81,
   "metadata": {
    "slideshow": {
     "slide_type": "fragment"
    }
   },
   "outputs": [
    {
     "name": "stdout",
     "output_type": "stream",
     "text": [
      "[1, 2, 3, 4]\n",
      "[1, 2, 3]\n",
      "[1, 2, 3]\n"
     ]
    }
   ],
   "source": [
    "print(numeros)\n",
    "copia_numeros = numeros\n",
    "copia_numeros.pop()\n",
    "print(numeros)\n",
    "print(copia_numeros)"
   ]
  },
  {
   "cell_type": "code",
   "execution_count": 82,
   "metadata": {
    "slideshow": {
     "slide_type": "fragment"
    }
   },
   "outputs": [
    {
     "name": "stdout",
     "output_type": "stream",
     "text": [
      "[1, 2, 3, 4, 5]\n",
      "[1, 2, 3, 4]\n"
     ]
    }
   ],
   "source": [
    "numeros = list(range(1, 6))\n",
    "copia_numeros = numeros[:]\n",
    "copia_numeros.pop()\n",
    "print(numeros)\n",
    "print(copia_numeros)"
   ]
  }
 ],
 "metadata": {
  "celltoolbar": "Slideshow",
  "kernelspec": {
   "display_name": "Python 3",
   "language": "python",
   "name": "python3"
  },
  "language_info": {
   "codemirror_mode": {
    "name": "ipython",
    "version": 3
   },
   "file_extension": ".py",
   "mimetype": "text/x-python",
   "name": "python",
   "nbconvert_exporter": "python",
   "pygments_lexer": "ipython3",
   "version": "3.6.7"
  }
 },
 "nbformat": 4,
 "nbformat_minor": 2
}
