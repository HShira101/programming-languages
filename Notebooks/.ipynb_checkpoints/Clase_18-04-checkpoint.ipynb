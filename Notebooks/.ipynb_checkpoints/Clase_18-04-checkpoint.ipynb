{
 "cells": [
  {
   "cell_type": "markdown",
   "metadata": {
    "slideshow": {
     "slide_type": "slide"
    }
   },
   "source": [
    "# Lenguajes de Proramación\n",
    "##  Introducción a Python - Parte II\n",
    "### Clase 18/04"
   ]
  },
  {
   "cell_type": "markdown",
   "metadata": {
    "slideshow": {
     "slide_type": "slide"
    }
   },
   "source": [
    "## Resumen \n",
    "- Caracteristicas del lenguaje\n",
    "- Requisitos para el ramo\n",
    "- \"Hola mundo\"\n",
    "- Cadenas, enteros y flotantes\n",
    "- Comentarios\n",
    "- Listas (Trabajando con ellas)"
   ]
  },
  {
   "cell_type": "markdown",
   "metadata": {
    "slideshow": {
     "slide_type": "slide"
    }
   },
   "source": [
    "# Tuplas"
   ]
  },
  {
   "cell_type": "code",
   "execution_count": 3,
   "metadata": {
    "slideshow": {
     "slide_type": "fragment"
    }
   },
   "outputs": [
    {
     "name": "stdout",
     "output_type": "stream",
     "text": [
      "['Esto', 'es', 'una', 'lista', '!']\n"
     ]
    },
    {
     "ename": "TypeError",
     "evalue": "'tuple' object does not support item assignment",
     "output_type": "error",
     "traceback": [
      "\u001b[0;31m---------------------------------------------------------------------------\u001b[0m",
      "\u001b[0;31mTypeError\u001b[0m                                 Traceback (most recent call last)",
      "\u001b[0;32m<ipython-input-3-0c896b9282a0>\u001b[0m in \u001b[0;36m<module>\u001b[0;34m\u001b[0m\n\u001b[1;32m      4\u001b[0m \u001b[0;34m\u001b[0m\u001b[0m\n\u001b[1;32m      5\u001b[0m \u001b[0mtupla\u001b[0m \u001b[0;34m=\u001b[0m \u001b[0;34m(\u001b[0m\u001b[0;34m\"Esto\"\u001b[0m\u001b[0;34m,\u001b[0m \u001b[0;34m\"es\"\u001b[0m\u001b[0;34m,\u001b[0m \u001b[0;34m\"una\"\u001b[0m\u001b[0;34m,\u001b[0m \u001b[0;34m\"tupla\"\u001b[0m\u001b[0;34m)\u001b[0m\u001b[0;34m\u001b[0m\u001b[0;34m\u001b[0m\u001b[0m\n\u001b[0;32m----> 6\u001b[0;31m \u001b[0mtupla\u001b[0m\u001b[0;34m[\u001b[0m\u001b[0;36m3\u001b[0m\u001b[0;34m]\u001b[0m \u001b[0;34m=\u001b[0m \u001b[0;34m\"lista\"\u001b[0m\u001b[0;34m\u001b[0m\u001b[0;34m\u001b[0m\u001b[0m\n\u001b[0m\u001b[1;32m      7\u001b[0m \u001b[0mprint\u001b[0m\u001b[0;34m(\u001b[0m\u001b[0mtupla\u001b[0m\u001b[0;34m)\u001b[0m\u001b[0;34m\u001b[0m\u001b[0;34m\u001b[0m\u001b[0m\n",
      "\u001b[0;31mTypeError\u001b[0m: 'tuple' object does not support item assignment"
     ]
    }
   ],
   "source": [
    "lista = [\"Esto\", \"es\", \"una\", \"lista\"]\n",
    "lista.append(\"!\")\n",
    "print(lista)\n",
    "\n",
    "tupla = (\"Esto\", \"es\", \"una\", \"tupla\")\n",
    "tupla[3] = \"lista\"\n",
    "print(tupla)"
   ]
  },
  {
   "cell_type": "markdown",
   "metadata": {
    "slideshow": {
     "slide_type": "subslide"
    }
   },
   "source": [
    "Al igual que en las listas, las tuplas se recorren de la misma manera:"
   ]
  },
  {
   "cell_type": "code",
   "execution_count": 4,
   "metadata": {
    "slideshow": {
     "slide_type": "fragment"
    }
   },
   "outputs": [
    {
     "name": "stdout",
     "output_type": "stream",
     "text": [
      "Esto\n",
      "es\n",
      "una\n",
      "tupla\n"
     ]
    }
   ],
   "source": [
    "tupla = (\"Esto\", \"es\", \"una\", \"tupla\")\n",
    "for elemento in tupla:\n",
    "    print(elemento)"
   ]
  },
  {
   "cell_type": "markdown",
   "metadata": {
    "slideshow": {
     "slide_type": "fragment"
    }
   },
   "source": [
    "Y a pesar de no poder cambiar los valores, podemos asignar nuevas tuplas en las variables:"
   ]
  },
  {
   "cell_type": "code",
   "execution_count": 5,
   "metadata": {
    "slideshow": {
     "slide_type": "fragment"
    }
   },
   "outputs": [
    {
     "name": "stdout",
     "output_type": "stream",
     "text": [
      "(10, 200)\n",
      "(20, 400)\n"
     ]
    }
   ],
   "source": [
    "tupla = (10, 200)\n",
    "print(tupla)\n",
    "# Nuevos valores\n",
    "tupla = (20, 400)\n",
    "print(tupla)"
   ]
  },
  {
   "cell_type": "markdown",
   "metadata": {
    "slideshow": {
     "slide_type": "slide"
    }
   },
   "source": [
    "# Guía de estilos\n",
    "- [PEP8](https://www.python.org/dev/peps/pep-0008/)\n",
    "- Identación: Espacios v/s Tabulación\n",
    "- Longitud de linea\n",
    "- Lineas en blanco"
   ]
  },
  {
   "cell_type": "markdown",
   "metadata": {
    "slideshow": {
     "slide_type": "slide"
    }
   },
   "source": [
    "# Sentencia _if_"
   ]
  },
  {
   "cell_type": "code",
   "execution_count": 7,
   "metadata": {
    "slideshow": {
     "slide_type": "fragment"
    }
   },
   "outputs": [
    {
     "name": "stdout",
     "output_type": "stream",
     "text": [
      "Nintendo  sucks!!!!\n",
      "PC  rocks!!!!\n",
      "Playstation  sucks!!!!\n",
      "XBOX  sucks!!!!\n"
     ]
    }
   ],
   "source": [
    "plataformas = [\"Nintendo\", \"PC\", \"Playstation\", \"XBOX\"]\n",
    "for elemento in plataformas:\n",
    "    if elemento == \"PC\":\n",
    "        print(elemento, \" rocks!!!!\")\n",
    "    else:\n",
    "        print(elemento, \" sucks!!!!\")"
   ]
  },
  {
   "cell_type": "markdown",
   "metadata": {
    "slideshow": {
     "slide_type": "subslide"
    }
   },
   "source": [
    "## Condiciones\n",
    "### Con cadenas"
   ]
  },
  {
   "cell_type": "code",
   "execution_count": 8,
   "metadata": {
    "slideshow": {
     "slide_type": "fragment"
    }
   },
   "outputs": [
    {
     "data": {
      "text/plain": [
       "True"
      ]
     },
     "execution_count": 8,
     "metadata": {},
     "output_type": "execute_result"
    }
   ],
   "source": [
    "game = \"The Witcher\"\n",
    "game == \"The Witcher\""
   ]
  },
  {
   "cell_type": "code",
   "execution_count": 9,
   "metadata": {
    "slideshow": {
     "slide_type": "fragment"
    }
   },
   "outputs": [
    {
     "data": {
      "text/plain": [
       "False"
      ]
     },
     "execution_count": 9,
     "metadata": {},
     "output_type": "execute_result"
    }
   ],
   "source": [
    "game == \"Dragon Age\""
   ]
  },
  {
   "cell_type": "code",
   "execution_count": 10,
   "metadata": {
    "slideshow": {
     "slide_type": "fragment"
    }
   },
   "outputs": [
    {
     "data": {
      "text/plain": [
       "False"
      ]
     },
     "execution_count": 10,
     "metadata": {},
     "output_type": "execute_result"
    }
   ],
   "source": [
    "game == \"the witcher\""
   ]
  },
  {
   "cell_type": "code",
   "execution_count": 14,
   "metadata": {
    "slideshow": {
     "slide_type": "fragment"
    }
   },
   "outputs": [
    {
     "data": {
      "text/plain": [
       "True"
      ]
     },
     "execution_count": 14,
     "metadata": {},
     "output_type": "execute_result"
    }
   ],
   "source": [
    "game != \"Mass Effect\""
   ]
  },
  {
   "cell_type": "markdown",
   "metadata": {
    "slideshow": {
     "slide_type": "subslide"
    }
   },
   "source": [
    "### Con números"
   ]
  },
  {
   "cell_type": "code",
   "execution_count": 15,
   "metadata": {
    "slideshow": {
     "slide_type": "fragment"
    }
   },
   "outputs": [
    {
     "data": {
      "text/plain": [
       "True"
      ]
     },
     "execution_count": 15,
     "metadata": {},
     "output_type": "execute_result"
    }
   ],
   "source": [
    "numero = 10\n",
    "numero == 10"
   ]
  },
  {
   "cell_type": "code",
   "execution_count": 16,
   "metadata": {
    "slideshow": {
     "slide_type": "fragment"
    }
   },
   "outputs": [
    {
     "data": {
      "text/plain": [
       "False"
      ]
     },
     "execution_count": 16,
     "metadata": {},
     "output_type": "execute_result"
    }
   ],
   "source": [
    "numero < 9"
   ]
  },
  {
   "cell_type": "code",
   "execution_count": 17,
   "metadata": {
    "slideshow": {
     "slide_type": "fragment"
    }
   },
   "outputs": [
    {
     "data": {
      "text/plain": [
       "True"
      ]
     },
     "execution_count": 17,
     "metadata": {},
     "output_type": "execute_result"
    }
   ],
   "source": [
    "numero >= 10"
   ]
  },
  {
   "cell_type": "markdown",
   "metadata": {
    "slideshow": {
     "slide_type": "subslide"
    }
   },
   "source": [
    "### Condiciones múltiples"
   ]
  },
  {
   "cell_type": "code",
   "execution_count": 19,
   "metadata": {
    "slideshow": {
     "slide_type": "fragment"
    }
   },
   "outputs": [
    {
     "data": {
      "text/plain": [
       "True"
      ]
     },
     "execution_count": 19,
     "metadata": {},
     "output_type": "execute_result"
    }
   ],
   "source": [
    "num1 = 10\n",
    "num2 = 20\n",
    "\n",
    "num1 == 10 and num2 == 20"
   ]
  },
  {
   "cell_type": "code",
   "execution_count": 20,
   "metadata": {
    "slideshow": {
     "slide_type": "fragment"
    }
   },
   "outputs": [
    {
     "data": {
      "text/plain": [
       "False"
      ]
     },
     "execution_count": 20,
     "metadata": {},
     "output_type": "execute_result"
    }
   ],
   "source": [
    "num1 == 10 and num2 == 21"
   ]
  },
  {
   "cell_type": "code",
   "execution_count": 21,
   "metadata": {
    "slideshow": {
     "slide_type": "fragment"
    }
   },
   "outputs": [
    {
     "data": {
      "text/plain": [
       "True"
      ]
     },
     "execution_count": 21,
     "metadata": {},
     "output_type": "execute_result"
    }
   ],
   "source": [
    "num1 < 10 or num2 < 30"
   ]
  },
  {
   "cell_type": "markdown",
   "metadata": {
    "slideshow": {
     "slide_type": "subslide"
    }
   },
   "source": [
    "### Condiciones en listas"
   ]
  },
  {
   "cell_type": "code",
   "execution_count": 22,
   "metadata": {
    "slideshow": {
     "slide_type": "fragment"
    }
   },
   "outputs": [
    {
     "data": {
      "text/plain": [
       "True"
      ]
     },
     "execution_count": 22,
     "metadata": {},
     "output_type": "execute_result"
    }
   ],
   "source": [
    "consolas = [\"Nintendo\", \"Playstation\", \"Xbox\"]\n",
    "\"Nintendo\" in consolas"
   ]
  },
  {
   "cell_type": "code",
   "execution_count": 23,
   "metadata": {
    "slideshow": {
     "slide_type": "fragment"
    }
   },
   "outputs": [
    {
     "data": {
      "text/plain": [
       "True"
      ]
     },
     "execution_count": 23,
     "metadata": {},
     "output_type": "execute_result"
    }
   ],
   "source": [
    "\"PC\" not in consolas"
   ]
  },
  {
   "cell_type": "code",
   "execution_count": 31,
   "metadata": {
    "slideshow": {
     "slide_type": "fragment"
    }
   },
   "outputs": [
    {
     "name": "stdout",
     "output_type": "stream",
     "text": [
      "Atari quedó fuera\n",
      "Nintendo esta presente\n"
     ]
    }
   ],
   "source": [
    "old_consolas = [\"Atari\", \"Nintendo\"]\n",
    "for elemento in old_consolas:\n",
    "    if elemento in consolas:\n",
    "        print(elemento + \" esta presente\")\n",
    "    else:\n",
    "        print(elemento + \" quedó fuera\")"
   ]
  },
  {
   "cell_type": "markdown",
   "metadata": {
    "slideshow": {
     "slide_type": "subslide"
    }
   },
   "source": [
    "### Comparadores\n",
    "| Condición | Significado       | True                 | False                |\n",
    "|-----------|-------------------|----------------------|----------------------|\n",
    "| <         | Menor que         | 9 < 10               | 10 < 9               |\n",
    "| >         | Mayor que         | 20 > 10              | 15 > 20              |\n",
    "| >=        | Mayor o igual que | 30 >= 30             | 30 >= 29             |\n",
    "| <=        | Menor o igual que | 40 <= 40             | 40 <= 41             |\n",
    "| ==        | Igual que         | 50 == 50             | 50 == 25             |\n",
    "| !=        | Distinto de       | 60 != 65             | 60 != 60             |\n",
    "| is        | Es ...            | \"Hola\" is \"Hola\"     | \"Hola\" is \"Chao\"     |\n",
    "| is not    | No es ...         | \"Rojo\" is not \"Azul\" | \"Rojo\" is not \"Rojo\" |\n",
    "| in        | En ...            | \"a\" in \"Maldonado\"   | \"a\" in \"Perez\"       |\n",
    "| not in    | No en ...         | 2 not in [4, 5, 7]   | 3 not in [3, 5, 8]   |"
   ]
  },
  {
   "cell_type": "markdown",
   "metadata": {
    "slideshow": {
     "slide_type": "subslide"
    }
   },
   "source": [
    "### Expresiones booleanas"
   ]
  },
  {
   "cell_type": "code",
   "execution_count": 24,
   "metadata": {
    "slideshow": {
     "slide_type": "fragment"
    }
   },
   "outputs": [
    {
     "name": "stdout",
     "output_type": "stream",
     "text": [
      "Great\n"
     ]
    }
   ],
   "source": [
    "en_jupyter = True\n",
    "if en_jupyter:\n",
    "    print(\"Great\")"
   ]
  },
  {
   "cell_type": "code",
   "execution_count": 25,
   "metadata": {
    "slideshow": {
     "slide_type": "fragment"
    }
   },
   "outputs": [
    {
     "name": "stdout",
     "output_type": "stream",
     "text": [
      "Still in basics\n"
     ]
    }
   ],
   "source": [
    "en_django = False\n",
    "if en_django:\n",
    "    print(\"A little advance\")\n",
    "else:\n",
    "    print(\"Still in basics\")"
   ]
  },
  {
   "cell_type": "markdown",
   "metadata": {
    "slideshow": {
     "slide_type": "subslide"
    }
   },
   "source": [
    "## Formas del _if_"
   ]
  },
  {
   "cell_type": "code",
   "execution_count": 26,
   "metadata": {
    "slideshow": {
     "slide_type": "fragment"
    }
   },
   "outputs": [
    {
     "name": "stdout",
     "output_type": "stream",
     "text": [
      "El número es 10\n"
     ]
    }
   ],
   "source": [
    "if 10 == 10:\n",
    "    print(\"El número es 10\")"
   ]
  },
  {
   "cell_type": "code",
   "execution_count": 32,
   "metadata": {
    "slideshow": {
     "slide_type": "fragment"
    }
   },
   "outputs": [
    {
     "name": "stdout",
     "output_type": "stream",
     "text": [
      "El número es 10\n"
     ]
    }
   ],
   "source": [
    "if 10 != 10:\n",
    "    print(\"El número no es 10\")\n",
    "else:\n",
    "    print(\"El número es 10\")"
   ]
  },
  {
   "cell_type": "code",
   "execution_count": 35,
   "metadata": {
    "slideshow": {
     "slide_type": "fragment"
    }
   },
   "outputs": [
    {
     "name": "stdout",
     "output_type": "stream",
     "text": [
      "El número es mayor o igual que 10\n"
     ]
    }
   ],
   "source": [
    "numero = 10\n",
    "if numero < 0:\n",
    "    print(\"El número es negativo\")\n",
    "elif numero >= 10:\n",
    "    print(\"El número es mayor o igual que 10\")\n",
    "else:\n",
    "    print(\"El número es distinto y menor de 10\")"
   ]
  },
  {
   "cell_type": "markdown",
   "metadata": {
    "slideshow": {
     "slide_type": "slide"
    }
   },
   "source": [
    "# Diccionarios"
   ]
  },
  {
   "cell_type": "code",
   "execution_count": 36,
   "metadata": {
    "slideshow": {
     "slide_type": "fragment"
    }
   },
   "outputs": [
    {
     "name": "stdout",
     "output_type": "stream",
     "text": [
      "{'nombre': 'Felipe', 'apellido': 'Maldonado'}\n"
     ]
    }
   ],
   "source": [
    "diccionario = {\"nombre\": \"Felipe\", \"apellido\": \"Maldonado\"}\n",
    "print(diccionario)"
   ]
  },
  {
   "cell_type": "code",
   "execution_count": 37,
   "metadata": {
    "slideshow": {
     "slide_type": "fragment"
    }
   },
   "outputs": [
    {
     "name": "stdout",
     "output_type": "stream",
     "text": [
      "Felipe\n",
      "Maldonado\n"
     ]
    }
   ],
   "source": [
    "print(diccionario[\"nombre\"])\n",
    "apellido = diccionario[\"apellido\"]\n",
    "print(apellido)"
   ]
  },
  {
   "cell_type": "code",
   "execution_count": 38,
   "metadata": {
    "slideshow": {
     "slide_type": "fragment"
    }
   },
   "outputs": [
    {
     "name": "stdout",
     "output_type": "stream",
     "text": [
      "{'nombre': 'Felipe', 'apellido': 'Maldonado', 'ocupacion': 'Profesor'}\n"
     ]
    }
   ],
   "source": [
    "diccionario[\"ocupacion\"] = \"Profesor\"\n",
    "print(diccionario)"
   ]
  },
  {
   "cell_type": "code",
   "execution_count": 39,
   "metadata": {
    "slideshow": {
     "slide_type": "subslide"
    }
   },
   "outputs": [
    {
     "name": "stdout",
     "output_type": "stream",
     "text": [
      "{'cpu': 'Ryzen'}\n"
     ]
    }
   ],
   "source": [
    "miequipo = {}\n",
    "miequipo[\"cpu\"] = \"Ryzen\"\n",
    "print(miequipo)\n",
    "miequipo[\"cpu\"] = \"Ryzen 5 2600\""
   ]
  },
  {
   "cell_type": "code",
   "execution_count": 41,
   "metadata": {
    "slideshow": {
     "slide_type": "fragment"
    }
   },
   "outputs": [
    {
     "name": "stdout",
     "output_type": "stream",
     "text": [
      "dict_values(['Felipe', 'Maldonado', 'Profesor'])\n",
      "dict_keys(['nombre', 'apellido', 'ocupacion'])\n"
     ]
    }
   ],
   "source": [
    "print(diccionario.values())\n",
    "print(diccionario.keys())"
   ]
  },
  {
   "cell_type": "code",
   "execution_count": 42,
   "metadata": {
    "slideshow": {
     "slide_type": "fragment"
    }
   },
   "outputs": [
    {
     "name": "stdout",
     "output_type": "stream",
     "text": [
      "nombre Felipe\n",
      "apellido Maldonado\n",
      "ocupacion Profesor\n"
     ]
    }
   ],
   "source": [
    "for key, item in diccionario.items():\n",
    "    print(key, item)"
   ]
  },
  {
   "cell_type": "markdown",
   "metadata": {
    "slideshow": {
     "slide_type": "subslide"
    }
   },
   "source": [
    "## Listas y diccionarios anidados"
   ]
  },
  {
   "cell_type": "code",
   "execution_count": 43,
   "metadata": {
    "slideshow": {
     "slide_type": "fragment"
    }
   },
   "outputs": [
    {
     "name": "stdout",
     "output_type": "stream",
     "text": [
      "[{'nombre': 'Juan', 'puesto': 'Ingeniero'}, {'nombre': 'Pedro', 'puesto': 'Diseñador'}]\n",
      "{'nombre': 'Juan', 'puesto': 'Ingeniero'}\n"
     ]
    }
   ],
   "source": [
    "trabajador = [{\"nombre\": \"Juan\", \"puesto\": \"Ingeniero\"}, \n",
    "              {\"nombre\": \"Pedro\", \"puesto\": \"Diseñador\"}]\n",
    "print(trabajador)\n",
    "print(trabajador[0])"
   ]
  },
  {
   "cell_type": "code",
   "execution_count": 47,
   "metadata": {
    "slideshow": {
     "slide_type": "fragment"
    }
   },
   "outputs": [
    {
     "name": "stdout",
     "output_type": "stream",
     "text": [
      "{'gmail': {'owner': 'Google', 'extension': '@gmail.com'}, 'hotmail': {'owner': 'Windows', 'extension': '@hotmail.com'}}\n",
      "{'owner': 'Google', 'extension': '@gmail.com'}\n",
      "Windows\n"
     ]
    }
   ],
   "source": [
    "correos = {\n",
    "    \"gmail\": {\n",
    "        \"owner\": \"Google\",\n",
    "        \"extension\": \"@gmail.com\"\n",
    "    },\n",
    "    \"hotmail\": {\n",
    "        \"owner\": \"Windows\",\n",
    "        \"extension\": \"@hotmail.com\"\n",
    "    }\n",
    "}\n",
    "print(correos)\n",
    "print(correos[\"gmail\"])\n",
    "print(correos[\"hotmail\"][\"owner\"])"
   ]
  },
  {
   "cell_type": "markdown",
   "metadata": {
    "slideshow": {
     "slide_type": "slide"
    }
   },
   "source": [
    "# Entrada de datos"
   ]
  },
  {
   "cell_type": "code",
   "execution_count": 50,
   "metadata": {
    "slideshow": {
     "slide_type": "fragment"
    }
   },
   "outputs": [
    {
     "name": "stdout",
     "output_type": "stream",
     "text": [
      "Cual es tu nombre? Felipe\n",
      "Hola Felipe!\n"
     ]
    }
   ],
   "source": [
    "name = input(\"Cual es tu nombre? \")\n",
    "print(\"Hola \" + name + \"!\")"
   ]
  },
  {
   "cell_type": "code",
   "execution_count": 51,
   "metadata": {
    "slideshow": {
     "slide_type": "fragment"
    }
   },
   "outputs": [
    {
     "name": "stdout",
     "output_type": "stream",
     "text": [
      "Cual es tu nombre? Felipe\n",
      "Hola Felipe!\n"
     ]
    }
   ],
   "source": [
    "mensaje = \"Cual es tu nombre? \"\n",
    "name = input(mensaje)\n",
    "print(\"Hola \" + name + \"!\")"
   ]
  },
  {
   "cell_type": "code",
   "execution_count": 53,
   "metadata": {
    "slideshow": {
     "slide_type": "fragment"
    }
   },
   "outputs": [
    {
     "name": "stdout",
     "output_type": "stream",
     "text": [
      "Cual es tu edad? 24\n",
      "Oh, ya tienes mas de 20 viejito\n"
     ]
    }
   ],
   "source": [
    "edad = input(\"Cual es tu edad? \")\n",
    "if int(edad) > 20:\n",
    "    print(\"Oh, ya tienes mas de 20 viejito\")"
   ]
  },
  {
   "cell_type": "markdown",
   "metadata": {
    "slideshow": {
     "slide_type": "slide"
    }
   },
   "source": [
    "# Bucle _while_"
   ]
  },
  {
   "cell_type": "code",
   "execution_count": 55,
   "metadata": {
    "slideshow": {
     "slide_type": "fragment"
    }
   },
   "outputs": [
    {
     "name": "stdout",
     "output_type": "stream",
     "text": [
      "0\n",
      "1\n",
      "2\n",
      "3\n",
      "4\n"
     ]
    }
   ],
   "source": [
    "rango = 5\n",
    "i = 0\n",
    "while i < rango:\n",
    "    print(i)\n",
    "    i += 1"
   ]
  },
  {
   "cell_type": "code",
   "execution_count": 56,
   "metadata": {
    "slideshow": {
     "slide_type": "fragment"
    }
   },
   "outputs": [
    {
     "name": "stdout",
     "output_type": "stream",
     "text": [
      "1\n",
      "2\n",
      "3\n"
     ]
    }
   ],
   "source": [
    "flag = True\n",
    "i = 0\n",
    "while flag:\n",
    "    i += 1\n",
    "    print(i)\n",
    "    if i == 3:\n",
    "        flag = False"
   ]
  },
  {
   "cell_type": "markdown",
   "metadata": {
    "slideshow": {
     "slide_type": "subslide"
    }
   },
   "source": [
    "## _Break_"
   ]
  },
  {
   "cell_type": "code",
   "execution_count": 59,
   "metadata": {
    "slideshow": {
     "slide_type": "fragment"
    }
   },
   "outputs": [
    {
     "name": "stdout",
     "output_type": "stream",
     "text": [
      "Igresa tu nombre hasta escribir salir: Felipe\n",
      "Felipe\n",
      "Igresa tu nombre hasta escribir salir: Tomas\n",
      "Tomas\n",
      "Igresa tu nombre hasta escribir salir: salir\n"
     ]
    }
   ],
   "source": [
    "while True:\n",
    "    name = input(\"Igresa tu nombre hasta escribir salir: \")\n",
    "    if name == \"salir\":\n",
    "        break\n",
    "    print(name)"
   ]
  },
  {
   "cell_type": "markdown",
   "metadata": {
    "slideshow": {
     "slide_type": "fragment"
    }
   },
   "source": [
    "## _Continue_"
   ]
  },
  {
   "cell_type": "code",
   "execution_count": 63,
   "metadata": {
    "slideshow": {
     "slide_type": "fragment"
    }
   },
   "outputs": [
    {
     "name": "stdout",
     "output_type": "stream",
     "text": [
      "1\n",
      "3\n",
      "4\n",
      "5\n"
     ]
    }
   ],
   "source": [
    "i = 0\n",
    "while i < 5:\n",
    "    i += 1\n",
    "    if i == 2:\n",
    "        continue\n",
    "    print(i)"
   ]
  },
  {
   "cell_type": "markdown",
   "metadata": {
    "slideshow": {
     "slide_type": "subslide"
    }
   },
   "source": [
    "## _While_ con listas"
   ]
  },
  {
   "cell_type": "code",
   "execution_count": 65,
   "metadata": {
    "slideshow": {
     "slide_type": "fragment"
    }
   },
   "outputs": [
    {
     "name": "stdout",
     "output_type": "stream",
     "text": [
      "El elemento eliminado es Zelda\n",
      "El elemento eliminado es The Witcher\n",
      "El elemento eliminado es Mass effect\n",
      "[]\n"
     ]
    }
   ],
   "source": [
    "juegos = [\"Mass effect\", \"The Witcher\", \"Zelda\"]\n",
    "while juegos:\n",
    "    elemento_eliminado = juegos.pop()\n",
    "    print(\"El elemento eliminado es \" + elemento_eliminado)\n",
    "print(juegos)"
   ]
  }
 ],
 "metadata": {
  "celltoolbar": "Slideshow",
  "kernelspec": {
   "display_name": "Python 3",
   "language": "python",
   "name": "python3"
  },
  "language_info": {
   "codemirror_mode": {
    "name": "ipython",
    "version": 3
   },
   "file_extension": ".py",
   "mimetype": "text/x-python",
   "name": "python",
   "nbconvert_exporter": "python",
   "pygments_lexer": "ipython3",
   "version": "3.6.7"
  }
 },
 "nbformat": 4,
 "nbformat_minor": 2
}
