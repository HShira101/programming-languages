{
 "cells": [
  {
   "cell_type": "markdown",
   "metadata": {
    "slideshow": {
     "slide_type": "slide"
    }
   },
   "source": [
    "# Lenguajes de Programación\n",
    "## Introducción a Python - Parte IV\n",
    "### Clase 26/04"
   ]
  },
  {
   "cell_type": "markdown",
   "metadata": {
    "slideshow": {
     "slide_type": "slide"
    }
   },
   "source": [
    "## Resumen clase anterior\n",
    "- Funciones\n",
    "- Cómo definirlas\n",
    "- Pasando datos\n",
    "- Usando un número arbitrario de argumentos y parámetros\n",
    "\n",
    "\n",
    "- Entrega de actividad 3"
   ]
  },
  {
   "cell_type": "markdown",
   "metadata": {
    "slideshow": {
     "slide_type": "slide"
    }
   },
   "source": [
    "## Actividad 3\n",
    "- Debera entregar un notebook de Jupyter a traves de GitHub con la respuesta de los ejercicios entregados en [clases](https://drive.google.com/open?id=1BfMOfVwqjlMJPZD9ltJ009rL1ydQ0XWCn5ZNPGxFgFw).\n",
    "- Para la evaluación, solo se tomará en cuenta la efectividad de cada ejercicio tomando en cuenta del uso de técnicas vistas en clases. \n",
    "- Ademas se tomara en cuenta el correcto uso de técnicas para prevenir mala entrada de datos (entrada de números donde corresponde texto, comparación de palabras con solo distinción en las mayúsculas, etc); esta revision sera solo estricta en los ejercicios con más puntaje.\n",
    "- Para la presentación, solo se revisara los GitHub's personales con el proyecto que incluya el notebook.\n",
    "- El limite de revision es el dia miércoles 1  de mayo, a las 16:50 (cualquier commit después de esa hora no sera evaluado)."
   ]
  },
  {
   "cell_type": "markdown",
   "metadata": {
    "slideshow": {
     "slide_type": "subslide"
    }
   },
   "source": [
    "## Link útil\n",
    "# [It's FREEEEE](https://goalkicker.com/?fbclid=IwAR1WclVIw2sYMi6j-66HOccMS3S11aVanaC_qu-oLJKNzfyEIvZpfos01kI)"
   ]
  },
  {
   "cell_type": "markdown",
   "metadata": {
    "slideshow": {
     "slide_type": "slide"
    }
   },
   "source": [
    "## Clases\n",
    "### Creando y usando clases"
   ]
  },
  {
   "cell_type": "code",
   "execution_count": 7,
   "metadata": {
    "slideshow": {
     "slide_type": "fragment"
    }
   },
   "outputs": [],
   "source": [
    "class Car():\n",
    "    def __init__(self, make, model, color):\n",
    "        self.make = make\n",
    "        self.model = model\n",
    "        self.color = color\n",
    "    \n",
    "    def print_description(self):\n",
    "        print(self.make + \" \" + self.model + \" \" + self.color.title())\n",
    "    \n",
    "    def color_description(self):\n",
    "        print(\"My car's color is \" + self.color)"
   ]
  },
  {
   "cell_type": "markdown",
   "metadata": {
    "slideshow": {
     "slide_type": "fragment"
    }
   },
   "source": [
    "### Creando una instancia"
   ]
  },
  {
   "cell_type": "code",
   "execution_count": 11,
   "metadata": {
    "slideshow": {
     "slide_type": "fragment"
    }
   },
   "outputs": [],
   "source": [
    "my_car = Car(\"Geely\", \"CK\", \"white\")"
   ]
  },
  {
   "cell_type": "markdown",
   "metadata": {
    "slideshow": {
     "slide_type": "subslide"
    }
   },
   "source": [
    "### Accediendo a los atributos"
   ]
  },
  {
   "cell_type": "code",
   "execution_count": 12,
   "metadata": {
    "slideshow": {
     "slide_type": "fragment"
    }
   },
   "outputs": [
    {
     "name": "stdout",
     "output_type": "stream",
     "text": [
      "Geely\n",
      "CK\n"
     ]
    }
   ],
   "source": [
    "print(my_car.make)\n",
    "print(my_car.model)"
   ]
  },
  {
   "cell_type": "markdown",
   "metadata": {
    "slideshow": {
     "slide_type": "fragment"
    }
   },
   "source": [
    "### Llamando métodos"
   ]
  },
  {
   "cell_type": "code",
   "execution_count": 13,
   "metadata": {
    "slideshow": {
     "slide_type": "fragment"
    }
   },
   "outputs": [
    {
     "name": "stdout",
     "output_type": "stream",
     "text": [
      "Geely CK White\n"
     ]
    }
   ],
   "source": [
    "my_car.print_description()"
   ]
  },
  {
   "cell_type": "markdown",
   "metadata": {
    "slideshow": {
     "slide_type": "fragment"
    }
   },
   "source": [
    "### Creando múltiples instancias"
   ]
  },
  {
   "cell_type": "code",
   "execution_count": 14,
   "metadata": {
    "slideshow": {
     "slide_type": "fragment"
    }
   },
   "outputs": [
    {
     "name": "stdout",
     "output_type": "stream",
     "text": [
      "My car's color is white\n",
      "Toyota Yaris Green\n"
     ]
    }
   ],
   "source": [
    "last_car = Car(make=\"Toyota\", color=\"green\", model=\"Yaris\")\n",
    "my_car.color_description()\n",
    "last_car.print_description()"
   ]
  },
  {
   "cell_type": "markdown",
   "metadata": {
    "slideshow": {
     "slide_type": "subslide"
    }
   },
   "source": [
    "## Valores por defecto"
   ]
  },
  {
   "cell_type": "code",
   "execution_count": 20,
   "metadata": {
    "slideshow": {
     "slide_type": "fragment"
    }
   },
   "outputs": [],
   "source": [
    "class Car():\n",
    "    def __init__(self, make, model, color, year=2019):\n",
    "        self.make = make\n",
    "        self.model = model\n",
    "        self.color = color\n",
    "        self.year = year\n",
    "        self.odometer = 0\n",
    "    \n",
    "    def print_description(self):\n",
    "        print(self.make + \" \" + self.model + \" \" + self.color.title() + \" \" + str(self.year))\n",
    "    \n",
    "    def color_description(self):\n",
    "        print(\"My car's color is \" + self.color)\n",
    "    \n",
    "    def read_odometer(self):\n",
    "        print(\"This car has traveled \" + str(self.odometer) + \" kilometers\")\n",
    "        \n",
    "    def set_odometer(self, new_value):\n",
    "        self.odometer = new_value"
   ]
  },
  {
   "cell_type": "code",
   "execution_count": 21,
   "metadata": {
    "slideshow": {
     "slide_type": "subslide"
    }
   },
   "outputs": [
    {
     "name": "stdout",
     "output_type": "stream",
     "text": [
      "Geely CK White 2019\n",
      "Toyota Yaris Green 2015\n"
     ]
    }
   ],
   "source": [
    "my_car = Car(\"Geely\", \"CK\", \"white\")\n",
    "last_car = Car(\"Toyota\", \"Yaris\", \"green\", 2015)\n",
    "\n",
    "my_car.print_description()\n",
    "last_car.print_description()"
   ]
  },
  {
   "cell_type": "code",
   "execution_count": 24,
   "metadata": {
    "slideshow": {
     "slide_type": "fragment"
    }
   },
   "outputs": [
    {
     "name": "stdout",
     "output_type": "stream",
     "text": [
      "0\n",
      "This car has traveled 20000 kilometers\n"
     ]
    }
   ],
   "source": [
    "print(my_car.odometer)\n",
    "last_car.set_odometer(20000)\n",
    "last_car.read_odometer()"
   ]
  },
  {
   "cell_type": "code",
   "execution_count": 25,
   "metadata": {
    "slideshow": {
     "slide_type": "subslide"
    }
   },
   "outputs": [],
   "source": [
    "class Car():\n",
    "    def __init__(self, make, model, color, year=2019):\n",
    "        self.make = make\n",
    "        self.model = model\n",
    "        self.color = color\n",
    "        self.year = year\n",
    "        self.odometer = 0\n",
    "    \n",
    "    def print_description(self):\n",
    "        print(self.make + \" \" + self.model + \" \" + self.color.title() + \" \" + str(self.year))\n",
    "    \n",
    "    def color_description(self):\n",
    "        print(\"My car's color is \" + self.color)\n",
    "    \n",
    "    def read_odometer(self):\n",
    "        print(\"This car has traveled \" + str(self.odometer) + \" kilometers\")\n",
    "        \n",
    "    def update_odometer(self, new_value):\n",
    "        if new_value < 0: print(\"Can't reduce the odometer\")\n",
    "        else: self.odometer = new_value"
   ]
  },
  {
   "cell_type": "code",
   "execution_count": 26,
   "metadata": {
    "slideshow": {
     "slide_type": "fragment"
    }
   },
   "outputs": [
    {
     "name": "stdout",
     "output_type": "stream",
     "text": [
      "Can't reduce the odometer\n",
      "This car has traveled 0 kilometers\n"
     ]
    }
   ],
   "source": [
    "last_car = Car(\"Toyota\", \"Yaris\", \"green\", 2015)\n",
    "last_car.update_odometer(-10)\n",
    "last_car.read_odometer()"
   ]
  },
  {
   "cell_type": "markdown",
   "metadata": {
    "slideshow": {
     "slide_type": "slide"
    }
   },
   "source": [
    "## Herencia"
   ]
  },
  {
   "cell_type": "code",
   "execution_count": 29,
   "metadata": {
    "slideshow": {
     "slide_type": "fragment"
    }
   },
   "outputs": [],
   "source": [
    "class ElectricCar(Car):\n",
    "    def __init__(self, make, model, color, year=2019):\n",
    "        super().__init__(make, model, color, year)"
   ]
  },
  {
   "cell_type": "code",
   "execution_count": 32,
   "metadata": {
    "slideshow": {
     "slide_type": "fragment"
    }
   },
   "outputs": [
    {
     "name": "stdout",
     "output_type": "stream",
     "text": [
      "Tesla Roadster Red 2019\n",
      "This car has traveled 0 kilometers\n"
     ]
    }
   ],
   "source": [
    "new_car = ElectricCar(\"Tesla\", \"Roadster\", \"red\")\n",
    "new_car.print_description()\n",
    "new_car.read_odometer()"
   ]
  },
  {
   "cell_type": "markdown",
   "metadata": {
    "slideshow": {
     "slide_type": "subslide"
    }
   },
   "source": [
    "### Nuevos atributos y métodos"
   ]
  },
  {
   "cell_type": "code",
   "execution_count": 41,
   "metadata": {
    "slideshow": {
     "slide_type": "fragment"
    }
   },
   "outputs": [],
   "source": [
    "class ElectricCar(Car):\n",
    "    def __init__(self, make, model, color, year=2019, battery=70):\n",
    "        super().__init__(make, model, color, year)\n",
    "        self.battery_size = battery\n",
    "    \n",
    "    def battery_description(self):\n",
    "        print(\"The battery capacity is \" + str(self.battery_size) + \" kWh\")"
   ]
  },
  {
   "cell_type": "code",
   "execution_count": 42,
   "metadata": {
    "slideshow": {
     "slide_type": "fragment"
    }
   },
   "outputs": [
    {
     "name": "stdout",
     "output_type": "stream",
     "text": [
      "The battery capacity is 100 kWh\n"
     ]
    }
   ],
   "source": [
    "new_car = ElectricCar(\"Tesla\", \"Roadster\", \"red\", battery=100)\n",
    "new_car.battery_description()"
   ]
  },
  {
   "cell_type": "markdown",
   "metadata": {
    "slideshow": {
     "slide_type": "subslide"
    }
   },
   "source": [
    "### Sobrescribiendo métodos"
   ]
  },
  {
   "cell_type": "code",
   "execution_count": 43,
   "metadata": {
    "slideshow": {
     "slide_type": "fragment"
    }
   },
   "outputs": [],
   "source": [
    "class ElectricCar(Car):\n",
    "    def __init__(self, make, model, color, year=2019, battery=70):\n",
    "        super().__init__(make, model, color, year)\n",
    "        self.battery_size = battery\n",
    "    \n",
    "    def battery_description(self):\n",
    "        print(\"The battery capacity is \" + str(self.battery_size) + \" kWh\")\n",
    "    \n",
    "    def read_odometer(self):\n",
    "        print(\"This car has traveled \" + str(self.odometer) + \" kilometers\")\n",
    "        print(\"Remember: This car consumes electricity for every reading of something\")"
   ]
  },
  {
   "cell_type": "code",
   "execution_count": 44,
   "metadata": {
    "slideshow": {
     "slide_type": "fragment"
    }
   },
   "outputs": [
    {
     "name": "stdout",
     "output_type": "stream",
     "text": [
      "Tesla Roadster Red 2019\n",
      "This car has traveled 0 kilometers\n",
      "Remember: This car consumes electricity for every reading of something\n"
     ]
    }
   ],
   "source": [
    "new_car = ElectricCar(\"Tesla\", \"Roadster\", \"red\")\n",
    "new_car.print_description()\n",
    "new_car.read_odometer()"
   ]
  },
  {
   "cell_type": "markdown",
   "metadata": {
    "slideshow": {
     "slide_type": "subslide"
    }
   },
   "source": [
    "### Instancias como atributos"
   ]
  },
  {
   "cell_type": "code",
   "execution_count": 47,
   "metadata": {
    "slideshow": {
     "slide_type": "fragment"
    }
   },
   "outputs": [],
   "source": [
    "class Battery():\n",
    "    def __init__(self, battery_size):\n",
    "        self.battery_size = battery_size\n",
    "    \n",
    "    def battery_description(self):\n",
    "        print(\"The battery capacity is \" + str(self.battery_size) + \" kWh\")\n",
    "    \n",
    "    def get_autonomy(self):\n",
    "        autonomy = self.battery_size * 6\n",
    "        print(\"This car can go around \" + str(autonomy) + \" kilometers with its battery\")\n",
    "\n",
    "class ElectricCar(Car):\n",
    "    def __init__(self, make, model, color, year=2019, battery_size=70):\n",
    "        super().__init__(make, model, color, year)\n",
    "        self.battery = Battery(battery_size)\n",
    "    \n",
    "    def read_odometer(self):\n",
    "        print(\"This car has traveled \" + str(self.odometer) + \" kilometers\")\n",
    "        print(\"Remember: This car consumes electricity for every reading of something\")"
   ]
  },
  {
   "cell_type": "code",
   "execution_count": 50,
   "metadata": {
    "slideshow": {
     "slide_type": "fragment"
    }
   },
   "outputs": [
    {
     "name": "stdout",
     "output_type": "stream",
     "text": [
      "This car can go around 600 kilometers with its battery\n"
     ]
    }
   ],
   "source": [
    "new_car = ElectricCar(\"Tesla\", \"Roadster\", \"red\", battery_size=100)\n",
    "new_car.battery.get_autonomy()"
   ]
  },
  {
   "cell_type": "markdown",
   "metadata": {
    "slideshow": {
     "slide_type": "subslide"
    }
   },
   "source": [
    "## Importando clases\n",
    "Vamos a los ejemplos ..."
   ]
  },
  {
   "cell_type": "markdown",
   "metadata": {
    "slideshow": {
     "slide_type": "slide"
    }
   },
   "source": [
    "## Archivos\n",
    "### Leyendo datos"
   ]
  },
  {
   "cell_type": "code",
   "execution_count": 54,
   "metadata": {
    "slideshow": {
     "slide_type": "fragment"
    }
   },
   "outputs": [
    {
     "name": "stdout",
     "output_type": "stream",
     "text": [
      "<class 'str'>\n",
      "Felipe\n",
      "José\n",
      "Francisca\n"
     ]
    }
   ],
   "source": [
    "with open(\"names.txt\") as names_file:\n",
    "    content = names_file.read()\n",
    "    print(type(content))\n",
    "    print(content)"
   ]
  },
  {
   "cell_type": "markdown",
   "metadata": {
    "slideshow": {
     "slide_type": "subslide"
    }
   },
   "source": [
    "### Rutas"
   ]
  },
  {
   "cell_type": "code",
   "execution_count": 55,
   "metadata": {
    "slideshow": {
     "slide_type": "fragment"
    }
   },
   "outputs": [],
   "source": [
    "filename = \"names.txt\"\n",
    "filename = \"/home/sagacius/Documentos/Repositories/programming-languages/Ejemplos/26-04/names.txt\"\n",
    "filename = \"../Ejemplos/26-04/names.txt\""
   ]
  },
  {
   "cell_type": "markdown",
   "metadata": {
    "slideshow": {
     "slide_type": "subslide"
    }
   },
   "source": [
    "### Leyendo por línea"
   ]
  },
  {
   "cell_type": "code",
   "execution_count": 56,
   "metadata": {
    "slideshow": {
     "slide_type": "fragment"
    }
   },
   "outputs": [
    {
     "name": "stdout",
     "output_type": "stream",
     "text": [
      "Felipe\n",
      "\n",
      "José\n",
      "\n",
      "Francisca\n"
     ]
    }
   ],
   "source": [
    "with open(filename) as names:\n",
    "    for line in names:\n",
    "        print(line)"
   ]
  },
  {
   "cell_type": "code",
   "execution_count": 57,
   "metadata": {
    "slideshow": {
     "slide_type": "fragment"
    }
   },
   "outputs": [
    {
     "name": "stdout",
     "output_type": "stream",
     "text": [
      "Felipe\n",
      "José\n",
      "Francisca\n"
     ]
    }
   ],
   "source": [
    "with open(filename) as names:\n",
    "    for line in names:\n",
    "        print(line.rstrip())"
   ]
  },
  {
   "cell_type": "code",
   "execution_count": 58,
   "metadata": {
    "slideshow": {
     "slide_type": "subslide"
    }
   },
   "outputs": [
    {
     "name": "stdout",
     "output_type": "stream",
     "text": [
      "['Felipe\\n', 'José\\n', 'Francisca']\n"
     ]
    }
   ],
   "source": [
    "with open(filename) as names:\n",
    "    namelist = names.readlines()\n",
    "    print(namelist)"
   ]
  },
  {
   "cell_type": "code",
   "execution_count": 60,
   "metadata": {
    "slideshow": {
     "slide_type": "fragment"
    }
   },
   "outputs": [
    {
     "name": "stdout",
     "output_type": "stream",
     "text": [
      "Felipe\n",
      "José\n",
      "Francisca\n"
     ]
    }
   ],
   "source": [
    "for name in namelist:\n",
    "    print(name.strip())"
   ]
  },
  {
   "cell_type": "markdown",
   "metadata": {
    "slideshow": {
     "slide_type": "subslide"
    }
   },
   "source": [
    "## Escribiendo en archivos"
   ]
  },
  {
   "cell_type": "code",
   "execution_count": 61,
   "metadata": {
    "slideshow": {
     "slide_type": "fragment"
    }
   },
   "outputs": [],
   "source": [
    "with open(filename, \"w\") as names:\n",
    "    names.write(\"Eduardo\")"
   ]
  },
  {
   "cell_type": "code",
   "execution_count": 63,
   "metadata": {
    "slideshow": {
     "slide_type": "fragment"
    }
   },
   "outputs": [
    {
     "name": "stdout",
     "output_type": "stream",
     "text": [
      "Eduardo\n"
     ]
    }
   ],
   "source": [
    "with open(filename) as names:\n",
    "    namelist = names.read()\n",
    "    print(namelist)"
   ]
  },
  {
   "cell_type": "code",
   "execution_count": 64,
   "metadata": {
    "slideshow": {
     "slide_type": "subslide"
    }
   },
   "outputs": [
    {
     "name": "stdout",
     "output_type": "stream",
     "text": [
      "EduardoTomás\n"
     ]
    }
   ],
   "source": [
    "with open(filename, \"w\") as names:\n",
    "    names.write(\"Eduardo\")\n",
    "    names.write(\"Tomás\")\n",
    "with open(filename) as names:\n",
    "    print(names.read())"
   ]
  },
  {
   "cell_type": "code",
   "execution_count": 67,
   "metadata": {
    "slideshow": {
     "slide_type": "fragment"
    }
   },
   "outputs": [
    {
     "name": "stdout",
     "output_type": "stream",
     "text": [
      "Eduardo\n",
      "Tomás\n",
      "\n"
     ]
    }
   ],
   "source": [
    "with open(filename, \"w\") as names:\n",
    "    names.write(\"Eduardo\\n\")\n",
    "    names.write(\"Tomás\\n\")\n",
    "with open(filename) as names:\n",
    "    print(names.read())"
   ]
  },
  {
   "cell_type": "code",
   "execution_count": 68,
   "metadata": {
    "slideshow": {
     "slide_type": "fragment"
    }
   },
   "outputs": [
    {
     "name": "stdout",
     "output_type": "stream",
     "text": [
      "Eduardo\n",
      "Tomás\n",
      "Carmen\n",
      "\n"
     ]
    }
   ],
   "source": [
    "with open(filename, \"a\") as names:\n",
    "    names.write(\"Carmen\\n\")\n",
    "with open(filename) as names:\n",
    "    print(names.read())"
   ]
  },
  {
   "cell_type": "markdown",
   "metadata": {
    "slideshow": {
     "slide_type": "subslide"
    }
   },
   "source": [
    "## Excepciones\n",
    "### Sentencias _try_ y _except_"
   ]
  },
  {
   "cell_type": "code",
   "execution_count": 69,
   "metadata": {
    "slideshow": {
     "slide_type": "fragment"
    }
   },
   "outputs": [
    {
     "ename": "ZeroDivisionError",
     "evalue": "division by zero",
     "output_type": "error",
     "traceback": [
      "\u001b[0;31m---------------------------------------------------------------------------\u001b[0m",
      "\u001b[0;31mZeroDivisionError\u001b[0m                         Traceback (most recent call last)",
      "\u001b[0;32m<ipython-input-69-fc6baad6ce6f>\u001b[0m in \u001b[0;36m<module>\u001b[0;34m\u001b[0m\n\u001b[1;32m      1\u001b[0m \u001b[0mnum1\u001b[0m \u001b[0;34m=\u001b[0m \u001b[0;36m0\u001b[0m\u001b[0;34m\u001b[0m\u001b[0;34m\u001b[0m\u001b[0m\n\u001b[1;32m      2\u001b[0m \u001b[0mnum2\u001b[0m \u001b[0;34m=\u001b[0m \u001b[0;36m5\u001b[0m\u001b[0;34m\u001b[0m\u001b[0;34m\u001b[0m\u001b[0m\n\u001b[0;32m----> 3\u001b[0;31m \u001b[0mprint\u001b[0m\u001b[0;34m(\u001b[0m\u001b[0mnum2\u001b[0m \u001b[0;34m/\u001b[0m \u001b[0mnum1\u001b[0m\u001b[0;34m)\u001b[0m\u001b[0;34m\u001b[0m\u001b[0;34m\u001b[0m\u001b[0m\n\u001b[0m",
      "\u001b[0;31mZeroDivisionError\u001b[0m: division by zero"
     ]
    }
   ],
   "source": [
    "num1 = 0\n",
    "num2 = 5\n",
    "print(num2 / num1)"
   ]
  },
  {
   "cell_type": "code",
   "execution_count": 70,
   "metadata": {
    "slideshow": {
     "slide_type": "fragment"
    }
   },
   "outputs": [
    {
     "name": "stdout",
     "output_type": "stream",
     "text": [
      "No puedes dividir un numero sobre cero\n"
     ]
    }
   ],
   "source": [
    "try:\n",
    "    print(num2 / num1)\n",
    "except ZeroDivisionError:\n",
    "    print(\"No puedes dividir un número sobre cero\")"
   ]
  },
  {
   "cell_type": "markdown",
   "metadata": {
    "slideshow": {
     "slide_type": "subslide"
    }
   },
   "source": [
    "### Sentencia _else_"
   ]
  },
  {
   "cell_type": "code",
   "execution_count": 71,
   "metadata": {
    "slideshow": {
     "slide_type": "fragment"
    }
   },
   "outputs": [
    {
     "name": "stdout",
     "output_type": "stream",
     "text": [
      "No puedes dividir un numero sobre cero\n"
     ]
    }
   ],
   "source": [
    "num1 = 0\n",
    "num2 = 2\n",
    "try:\n",
    "    answer = num2 / num1\n",
    "except ZeroDivisionError:\n",
    "    print(\"No puedes dividir un número sobre cero\")\n",
    "else:\n",
    "    print(answer)"
   ]
  },
  {
   "cell_type": "code",
   "execution_count": 73,
   "metadata": {
    "slideshow": {
     "slide_type": "fragment"
    }
   },
   "outputs": [
    {
     "name": "stdout",
     "output_type": "stream",
     "text": [
      "1.0\n"
     ]
    }
   ],
   "source": [
    "num1 = 2\n",
    "num2 = 2\n",
    "try:\n",
    "    answer = num2 / num1\n",
    "except ZeroDivisionError:\n",
    "    print(\"No puedes dividir un número sobre cero\")\n",
    "else:\n",
    "    print(answer)"
   ]
  },
  {
   "cell_type": "markdown",
   "metadata": {
    "slideshow": {
     "slide_type": "subslide"
    }
   },
   "source": [
    "## Decidiendo que notificar"
   ]
  },
  {
   "cell_type": "code",
   "execution_count": 74,
   "metadata": {
    "slideshow": {
     "slide_type": "fragment"
    }
   },
   "outputs": [
    {
     "name": "stdout",
     "output_type": "stream",
     "text": [
      "Sabes que hubo un error pero no me importa jaja\n"
     ]
    }
   ],
   "source": [
    "num1 = 0\n",
    "num2 = 2\n",
    "try:\n",
    "    answer = num2 / num1\n",
    "except ZeroDivisionError:\n",
    "    pass\n",
    "print(\"Sabes que hubo un error pero no me importa jaja\")"
   ]
  }
 ],
 "metadata": {
  "celltoolbar": "Slideshow",
  "kernelspec": {
   "display_name": "Python 3",
   "language": "python",
   "name": "python3"
  },
  "language_info": {
   "codemirror_mode": {
    "name": "ipython",
    "version": 3
   },
   "file_extension": ".py",
   "mimetype": "text/x-python",
   "name": "python",
   "nbconvert_exporter": "python",
   "pygments_lexer": "ipython3",
   "version": "3.6.7"
  }
 },
 "nbformat": 4,
 "nbformat_minor": 2
}
