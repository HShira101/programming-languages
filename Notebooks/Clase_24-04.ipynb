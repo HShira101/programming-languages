{
 "cells": [
  {
   "cell_type": "markdown",
   "metadata": {
    "slideshow": {
     "slide_type": "slide"
    }
   },
   "source": [
    "# Lenguajes de programación\n",
    "## Introducción a Python - Parte III\n",
    "### Clase 24/04"
   ]
  },
  {
   "cell_type": "markdown",
   "metadata": {
    "slideshow": {
     "slide_type": "slide"
    }
   },
   "source": [
    "## Resumen clase anterior\n",
    "- Tuplas\n",
    "- Guías de estilos\n",
    "- Sentencia _if_\n",
    "- Diccionarios\n",
    "- Entrada de datos\n",
    "- Sentencia _while_"
   ]
  },
  {
   "cell_type": "markdown",
   "metadata": {
    "slideshow": {
     "slide_type": "slide"
    }
   },
   "source": [
    "## Funciones\n",
    "### Definiendo funciones"
   ]
  },
  {
   "cell_type": "code",
   "execution_count": 15,
   "metadata": {
    "slideshow": {
     "slide_type": "fragment"
    }
   },
   "outputs": [
    {
     "name": "stdout",
     "output_type": "stream",
     "text": [
      "Hola chiquillos !!\n"
     ]
    }
   ],
   "source": [
    "# Función simple\n",
    "def saludo():\n",
    "    print(\"Hola chiquillos !!\")\n",
    "    pass\n",
    "\n",
    "saludo()"
   ]
  },
  {
   "cell_type": "code",
   "execution_count": 16,
   "metadata": {
    "slideshow": {
     "slide_type": "fragment"
    }
   },
   "outputs": [
    {
     "name": "stdout",
     "output_type": "stream",
     "text": [
      "3\n"
     ]
    }
   ],
   "source": [
    "# Función con parametros\n",
    "def suma(num1, num2):\n",
    "    print(num1 + num2)\n",
    "    pass\n",
    "\n",
    "suma(1, 2)"
   ]
  },
  {
   "cell_type": "markdown",
   "metadata": {
    "slideshow": {
     "slide_type": "subslide"
    }
   },
   "source": [
    "Recordar que las variables dentro de una función son locales"
   ]
  },
  {
   "cell_type": "code",
   "execution_count": 17,
   "metadata": {
    "slideshow": {
     "slide_type": "fragment"
    }
   },
   "outputs": [
    {
     "ename": "NameError",
     "evalue": "name 'num1' is not defined",
     "output_type": "error",
     "traceback": [
      "\u001b[0;31m---------------------------------------------------------------------------\u001b[0m",
      "\u001b[0;31mNameError\u001b[0m                                 Traceback (most recent call last)",
      "\u001b[0;32m<ipython-input-17-bebeff70486e>\u001b[0m in \u001b[0;36m<module>\u001b[0;34m\u001b[0m\n\u001b[0;32m----> 1\u001b[0;31m \u001b[0mprint\u001b[0m\u001b[0;34m(\u001b[0m\u001b[0mnum1\u001b[0m\u001b[0;34m,\u001b[0m \u001b[0mnum2\u001b[0m\u001b[0;34m)\u001b[0m\u001b[0;34m\u001b[0m\u001b[0;34m\u001b[0m\u001b[0m\n\u001b[0m",
      "\u001b[0;31mNameError\u001b[0m: name 'num1' is not defined"
     ]
    }
   ],
   "source": [
    "print(num1, num2)"
   ]
  },
  {
   "cell_type": "markdown",
   "metadata": {
    "slideshow": {
     "slide_type": "subslide"
    }
   },
   "source": [
    "### Pasando argumentos"
   ]
  },
  {
   "cell_type": "code",
   "execution_count": 18,
   "metadata": {
    "slideshow": {
     "slide_type": "fragment"
    }
   },
   "outputs": [
    {
     "name": "stdout",
     "output_type": "stream",
     "text": [
      "Mi apellido paterno es Maldonado\n",
      "Soy Felipe Maldonado\n",
      "\n",
      "Mi apellido paterno es Felipe\n",
      "Soy Maldonado Felipe\n"
     ]
    }
   ],
   "source": [
    "def presentacion(nombre, apellido):\n",
    "    print(\"Mi apellido paterno es \" + apellido)\n",
    "    print(\"Soy \" + nombre + \" \" + apellido)\n",
    "    pass\n",
    "\n",
    "presentacion(\"Felipe\", \"Maldonado\")\n",
    "print(\"\")\n",
    "presentacion(\"Maldonado\", \"Felipe\")"
   ]
  },
  {
   "cell_type": "code",
   "execution_count": 11,
   "metadata": {
    "slideshow": {
     "slide_type": "fragment"
    }
   },
   "outputs": [
    {
     "name": "stdout",
     "output_type": "stream",
     "text": [
      "Mi apellido paterno es Maldonado\n",
      "Soy Felipe Maldonado\n",
      "\n",
      "Mi apellido paterno es Maldonado\n",
      "Soy Felipe Maldonado\n"
     ]
    }
   ],
   "source": [
    "presentacion(nombre=\"Felipe\", apellido=\"Maldonado\")\n",
    "print(\"\")\n",
    "presentacion(apellido=\"Maldonado\", nombre=\"Felipe\")"
   ]
  },
  {
   "cell_type": "code",
   "execution_count": 19,
   "metadata": {
    "slideshow": {
     "slide_type": "subslide"
    }
   },
   "outputs": [
    {
     "name": "stdout",
     "output_type": "stream",
     "text": [
      "Yo manejo un Sedán\n",
      "Su marca es Geely\n",
      "\n",
      "Yo manejo un Automóvil\n",
      "Su marca es Toyota\n",
      "\n"
     ]
    }
   ],
   "source": [
    "def manejando(marca, tipo=\"Automóvil\"):\n",
    "    print(\"Yo manejo un \" + tipo)\n",
    "    print(\"Su marca es \" + marca + \"\\n\")\n",
    "    pass\n",
    "\n",
    "manejando(\"Geely\", \"Sedán\")\n",
    "manejando(\"Toyota\")"
   ]
  },
  {
   "cell_type": "code",
   "execution_count": 20,
   "metadata": {
    "slideshow": {
     "slide_type": "fragment"
    }
   },
   "outputs": [
    {
     "ename": "TypeError",
     "evalue": "manejando() missing 1 required positional argument: 'marca'",
     "output_type": "error",
     "traceback": [
      "\u001b[0;31m---------------------------------------------------------------------------\u001b[0m",
      "\u001b[0;31mTypeError\u001b[0m                                 Traceback (most recent call last)",
      "\u001b[0;32m<ipython-input-20-9ae0ded74437>\u001b[0m in \u001b[0;36m<module>\u001b[0;34m\u001b[0m\n\u001b[0;32m----> 1\u001b[0;31m \u001b[0mmanejando\u001b[0m\u001b[0;34m(\u001b[0m\u001b[0;34m)\u001b[0m\u001b[0;34m\u001b[0m\u001b[0;34m\u001b[0m\u001b[0m\n\u001b[0m",
      "\u001b[0;31mTypeError\u001b[0m: manejando() missing 1 required positional argument: 'marca'"
     ]
    }
   ],
   "source": [
    "manejando()"
   ]
  },
  {
   "cell_type": "markdown",
   "metadata": {
    "slideshow": {
     "slide_type": "subslide"
    }
   },
   "source": [
    "## Retornando valores"
   ]
  },
  {
   "cell_type": "code",
   "execution_count": 21,
   "metadata": {
    "slideshow": {
     "slide_type": "fragment"
    }
   },
   "outputs": [
    {
     "name": "stdout",
     "output_type": "stream",
     "text": [
      "Felipe Maldonado Gallardo\n"
     ]
    }
   ],
   "source": [
    "def formateando_nombre(nombre, apellido_p, apellido_m):\n",
    "    nombre_completo = nombre + \" \" + apellido_p + \" \" + apellido_m\n",
    "    return nombre_completo\n",
    "\n",
    "nombre = formateando_nombre(\"Felipe\", \"Maldonado\", \"Gallardo\")\n",
    "print(nombre)"
   ]
  },
  {
   "cell_type": "code",
   "execution_count": 22,
   "metadata": {
    "slideshow": {
     "slide_type": "fragment"
    }
   },
   "outputs": [
    {
     "name": "stdout",
     "output_type": "stream",
     "text": [
      "Felipe Maldonado Gallardo\n",
      "Felipe Maldonado\n"
     ]
    }
   ],
   "source": [
    "def formateando_nombre(nombre, apellido_p, apellido_m=\"\"):\n",
    "    if apellido_m:\n",
    "        nombre_completo = nombre + \" \" + apellido_p + \" \" + apellido_m\n",
    "    else:\n",
    "        nombre_completo = nombre + \" \" + apellido_p\n",
    "    return nombre_completo\n",
    "\n",
    "nombre = formateando_nombre(\"Felipe\", \"Maldonado\", \"Gallardo\")\n",
    "print(nombre)\n",
    "nombre = formateando_nombre(\"Felipe\", \"Maldonado\")\n",
    "print(nombre)"
   ]
  },
  {
   "cell_type": "markdown",
   "metadata": {
    "slideshow": {
     "slide_type": "subslide"
    }
   },
   "source": [
    "## Retornando diccionarios"
   ]
  },
  {
   "cell_type": "code",
   "execution_count": 24,
   "metadata": {
    "slideshow": {
     "slide_type": "fragment"
    }
   },
   "outputs": [
    {
     "name": "stdout",
     "output_type": "stream",
     "text": [
      "{'nombre': 'Felipe', 'apellido_p': 'Maldonado', 'apellido_m': 'Gallardo'}\n"
     ]
    }
   ],
   "source": [
    "def formateando_nombre(nombre, apellido_p, apellido_m=\"\"):\n",
    "    nombre_completo = {\"nombre\": nombre, \"apellido_p\": apellido_p}\n",
    "    if apellido_m:\n",
    "        nombre_completo[\"apellido_m\"] = apellido_m\n",
    "    return nombre_completo\n",
    "\n",
    "nombre = formateando_nombre(\"Felipe\", \"Maldonado\", \"Gallardo\")\n",
    "print(nombre)"
   ]
  },
  {
   "cell_type": "markdown",
   "metadata": {
    "slideshow": {
     "slide_type": "subslide"
    }
   },
   "source": [
    "## Pasando listas"
   ]
  },
  {
   "cell_type": "code",
   "execution_count": 25,
   "metadata": {
    "slideshow": {
     "slide_type": "fragment"
    }
   },
   "outputs": [
    {
     "name": "stdout",
     "output_type": "stream",
     "text": [
      "Hola Felipe\n",
      "Hola José\n",
      "Hola Francisca\n"
     ]
    }
   ],
   "source": [
    "def saludando_usuarios(nombres):\n",
    "    for usuario in nombres:\n",
    "        print(\"Hola \" + usuario)\n",
    "    pass\n",
    "\n",
    "usuarios = [\"Felipe\", \"José\", \"Francisca\"]\n",
    "saludando_usuarios(usuarios)"
   ]
  },
  {
   "cell_type": "code",
   "execution_count": 31,
   "metadata": {
    "slideshow": {
     "slide_type": "fragment"
    }
   },
   "outputs": [
    {
     "name": "stdout",
     "output_type": "stream",
     "text": [
      "['Felipe', 'José', 'Francisca']\n",
      "Hola Francisca\n",
      "Hola José\n",
      "Hola Felipe\n",
      "[]\n"
     ]
    }
   ],
   "source": [
    "def saludando_usuarios(nombres):\n",
    "    while nombres:\n",
    "        usuario_actual = nombres.pop()\n",
    "        print(\"Hola \" + usuario_actual)\n",
    "    pass\n",
    "\n",
    "usuarios = [\"Felipe\", \"José\", \"Francisca\"]\n",
    "print(usuarios)\n",
    "saludando_usuarios(usuarios)\n",
    "print(usuarios)"
   ]
  },
  {
   "cell_type": "code",
   "execution_count": 33,
   "metadata": {
    "slideshow": {
     "slide_type": "subslide"
    }
   },
   "outputs": [
    {
     "name": "stdout",
     "output_type": "stream",
     "text": [
      "['Felipe', 'José', 'Francisca']\n",
      "Hola Francisca\n",
      "Hola José\n",
      "Hola Felipe\n",
      "['Felipe', 'José', 'Francisca']\n"
     ]
    }
   ],
   "source": [
    "usuarios = [\"Felipe\", \"José\", \"Francisca\"]\n",
    "print(usuarios)\n",
    "saludando_usuarios(usuarios[:])\n",
    "print(usuarios)"
   ]
  },
  {
   "cell_type": "markdown",
   "metadata": {
    "slideshow": {
     "slide_type": "subslide"
    }
   },
   "source": [
    "## Pasando un número arbitriario de argumentos"
   ]
  },
  {
   "cell_type": "code",
   "execution_count": 35,
   "metadata": {
    "slideshow": {
     "slide_type": "fragment"
    }
   },
   "outputs": [
    {
     "name": "stdout",
     "output_type": "stream",
     "text": [
      "<class 'tuple'>\n",
      "Cocinando pizza con los siguientes ingredientes:\n",
      "- Pepperoni\n",
      "<class 'tuple'>\n",
      "Cocinando pizza con los siguientes ingredientes:\n",
      "- Tocino\n",
      "- Jamón\n",
      "- Salame\n"
     ]
    }
   ],
   "source": [
    "def pizza(*ingredientes):\n",
    "    print(type(ingredientes))\n",
    "    print(\"Cocinando pizza con los siguientes ingredientes:\")\n",
    "    for ing in ingredientes:\n",
    "        print(\"- \" + ing.capitalize())\n",
    "    pass\n",
    "\n",
    "pizza(\"Pepperoni\")\n",
    "pizza(\"Tocino\", \"Jamón\", \"Salame\")"
   ]
  },
  {
   "cell_type": "markdown",
   "metadata": {
    "slideshow": {
     "slide_type": "subslide"
    }
   },
   "source": [
    "Cuidado con los valores opcionales"
   ]
  },
  {
   "cell_type": "code",
   "execution_count": 40,
   "metadata": {
    "slideshow": {
     "slide_type": "fragment"
    }
   },
   "outputs": [
    {
     "name": "stdout",
     "output_type": "stream",
     "text": [
      "<class 'tuple'>\n",
      "Cocinando pizza de Pepperoni pulgadas con los siguientes ingredientes:\n",
      "<class 'tuple'>\n",
      "Cocinando pizza de 15 pulgadas con los siguientes ingredientes:\n",
      "- Tocino\n",
      "- Jamón\n",
      "- Salame\n"
     ]
    }
   ],
   "source": [
    "def pizza(tamaño=16, *ingredientes):\n",
    "    print(type(ingredientes))\n",
    "    print(\"Cocinando pizza de \" + str(tamaño) + \" pulgadas con los siguientes ingredientes:\")\n",
    "    for ing in ingredientes:\n",
    "        print(\"- \" + ing.capitalize())\n",
    "    pass\n",
    "\n",
    "pizza(\"Pepperoni\")\n",
    "pizza(15, \"Tocino\", \"Jamón\", \"Salame\")"
   ]
  },
  {
   "cell_type": "markdown",
   "metadata": {
    "slideshow": {
     "slide_type": "subslide"
    }
   },
   "source": [
    "## Pasando un número arbitriario de parámetros"
   ]
  },
  {
   "cell_type": "code",
   "execution_count": 44,
   "metadata": {
    "slideshow": {
     "slide_type": "fragment"
    }
   },
   "outputs": [
    {
     "name": "stdout",
     "output_type": "stream",
     "text": [
      "<class 'dict'>\n",
      "{'nombre': 'Felipe', 'apellido': 'Maldonado', 'universidad': 'ULagos', 'titulo': 'Ing. Civil en Informática'}\n"
     ]
    }
   ],
   "source": [
    "def perfil(nombre, apellido, **informacion):\n",
    "    print(type(informacion))\n",
    "    usuario = {}\n",
    "    usuario[\"nombre\"] = nombre\n",
    "    usuario[\"apellido\"] = apellido\n",
    "    for key, value in informacion.items():\n",
    "        usuario[key] = value\n",
    "    return usuario\n",
    "\n",
    "mi_perfil = perfil(\"Felipe\", \n",
    "                   \"Maldonado\", \n",
    "                   universidad=\"ULagos\", \n",
    "                   titulo=\"Ing. Civil en Informática\")\n",
    "print(mi_perfil)"
   ]
  },
  {
   "cell_type": "code",
   "execution_count": null,
   "metadata": {},
   "outputs": [],
   "source": []
  }
 ],
 "metadata": {
  "celltoolbar": "Slideshow",
  "kernelspec": {
   "display_name": "Python 3",
   "language": "python",
   "name": "python3"
  },
  "language_info": {
   "codemirror_mode": {
    "name": "ipython",
    "version": 3
   },
   "file_extension": ".py",
   "mimetype": "text/x-python",
   "name": "python",
   "nbconvert_exporter": "python",
   "pygments_lexer": "ipython3",
   "version": "3.6.7"
  }
 },
 "nbformat": 4,
 "nbformat_minor": 2
}
